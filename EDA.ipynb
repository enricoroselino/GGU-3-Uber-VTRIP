{
 "cells": [
  {
   "cell_type": "code",
   "execution_count": 2,
   "metadata": {},
   "outputs": [],
   "source": [
    "import pandas as pd\n",
    "import os"
   ]
  },
  {
   "cell_type": "code",
   "execution_count": 3,
   "metadata": {},
   "outputs": [],
   "source": [
    "# OS dependent path\n",
    "bog_path = os.path.join(\"dataset\", \"bog_clean.csv\")\n",
    "mex_path = os.path.join(\"dataset\", \"mex_clean.csv\")\n",
    "equ_path = os.path.join(\"dataset\", \"uio_clean.csv\")"
   ]
  },
  {
   "cell_type": "code",
   "execution_count": 4,
   "metadata": {},
   "outputs": [],
   "source": [
    "# read dataset\n",
    "bog_df = pd.read_csv(bog_path)\n",
    "mex_df = pd.read_csv(mex_path)\n",
    "equ_df = pd.read_csv(equ_path)"
   ]
  },
  {
   "cell_type": "code",
   "execution_count": 5,
   "metadata": {},
   "outputs": [
    {
     "data": {
      "text/html": [
       "<div>\n",
       "<style scoped>\n",
       "    .dataframe tbody tr th:only-of-type {\n",
       "        vertical-align: middle;\n",
       "    }\n",
       "\n",
       "    .dataframe tbody tr th {\n",
       "        vertical-align: top;\n",
       "    }\n",
       "\n",
       "    .dataframe thead th {\n",
       "        text-align: right;\n",
       "    }\n",
       "</style>\n",
       "<table border=\"1\" class=\"dataframe\">\n",
       "  <thead>\n",
       "    <tr style=\"text-align: right;\">\n",
       "      <th></th>\n",
       "      <th>id</th>\n",
       "      <th>vendor_id</th>\n",
       "      <th>pickup_datetime</th>\n",
       "      <th>dropoff_datetime</th>\n",
       "      <th>pickup_longitude</th>\n",
       "      <th>pickup_latitude</th>\n",
       "      <th>dropoff_longitude</th>\n",
       "      <th>dropoff_latitude</th>\n",
       "      <th>store_and_fwd_flag</th>\n",
       "      <th>trip_duration</th>\n",
       "      <th>dist_meters</th>\n",
       "      <th>wait_sec</th>\n",
       "    </tr>\n",
       "  </thead>\n",
       "  <tbody>\n",
       "    <tr>\n",
       "      <th>3060</th>\n",
       "      <td>3061</td>\n",
       "      <td>Bogotá</td>\n",
       "      <td>2016-10-27 12:28:22</td>\n",
       "      <td>2016-10-27 01:16:58</td>\n",
       "      <td>-74.061556</td>\n",
       "      <td>4.709213</td>\n",
       "      <td>-74.042396</td>\n",
       "      <td>4.708566</td>\n",
       "      <td>N</td>\n",
       "      <td>2917</td>\n",
       "      <td>10994</td>\n",
       "      <td>1401</td>\n",
       "    </tr>\n",
       "    <tr>\n",
       "      <th>3061</th>\n",
       "      <td>3062</td>\n",
       "      <td>Bogotá</td>\n",
       "      <td>2016-10-27 07:40:49</td>\n",
       "      <td>2016-10-27 09:08:09</td>\n",
       "      <td>-74.050934</td>\n",
       "      <td>4.752078</td>\n",
       "      <td>-74.050875</td>\n",
       "      <td>4.752123</td>\n",
       "      <td>N</td>\n",
       "      <td>5240</td>\n",
       "      <td>15803</td>\n",
       "      <td>3076</td>\n",
       "    </tr>\n",
       "    <tr>\n",
       "      <th>3062</th>\n",
       "      <td>3063</td>\n",
       "      <td>Bogotá</td>\n",
       "      <td>2016-10-26 04:27:39</td>\n",
       "      <td>2016-10-28 06:50:28</td>\n",
       "      <td>-74.052223</td>\n",
       "      <td>4.705252</td>\n",
       "      <td>-74.050725</td>\n",
       "      <td>4.714622</td>\n",
       "      <td>N</td>\n",
       "      <td>138169</td>\n",
       "      <td>5934</td>\n",
       "      <td>354</td>\n",
       "    </tr>\n",
       "  </tbody>\n",
       "</table>\n",
       "</div>"
      ],
      "text/plain": [
       "        id vendor_id      pickup_datetime     dropoff_datetime  \\\n",
       "3060  3061    Bogotá  2016-10-27 12:28:22  2016-10-27 01:16:58   \n",
       "3061  3062    Bogotá  2016-10-27 07:40:49  2016-10-27 09:08:09   \n",
       "3062  3063    Bogotá  2016-10-26 04:27:39  2016-10-28 06:50:28   \n",
       "\n",
       "      pickup_longitude  pickup_latitude  dropoff_longitude  dropoff_latitude  \\\n",
       "3060        -74.061556         4.709213         -74.042396          4.708566   \n",
       "3061        -74.050934         4.752078         -74.050875          4.752123   \n",
       "3062        -74.052223         4.705252         -74.050725          4.714622   \n",
       "\n",
       "     store_and_fwd_flag  trip_duration  dist_meters  wait_sec  \n",
       "3060                  N           2917        10994      1401  \n",
       "3061                  N           5240        15803      3076  \n",
       "3062                  N         138169         5934       354  "
      ]
     },
     "execution_count": 5,
     "metadata": {},
     "output_type": "execute_result"
    }
   ],
   "source": [
    "bog_df.tail(3)"
   ]
  },
  {
   "cell_type": "code",
   "execution_count": 6,
   "metadata": {},
   "outputs": [
    {
     "data": {
      "text/html": [
       "<div>\n",
       "<style scoped>\n",
       "    .dataframe tbody tr th:only-of-type {\n",
       "        vertical-align: middle;\n",
       "    }\n",
       "\n",
       "    .dataframe tbody tr th {\n",
       "        vertical-align: top;\n",
       "    }\n",
       "\n",
       "    .dataframe thead th {\n",
       "        text-align: right;\n",
       "    }\n",
       "</style>\n",
       "<table border=\"1\" class=\"dataframe\">\n",
       "  <thead>\n",
       "    <tr style=\"text-align: right;\">\n",
       "      <th></th>\n",
       "      <th>id</th>\n",
       "      <th>vendor_id</th>\n",
       "      <th>pickup_datetime</th>\n",
       "      <th>dropoff_datetime</th>\n",
       "      <th>pickup_longitude</th>\n",
       "      <th>pickup_latitude</th>\n",
       "      <th>dropoff_longitude</th>\n",
       "      <th>dropoff_latitude</th>\n",
       "      <th>store_and_fwd_flag</th>\n",
       "      <th>trip_duration</th>\n",
       "      <th>dist_meters</th>\n",
       "      <th>wait_sec</th>\n",
       "    </tr>\n",
       "  </thead>\n",
       "  <tbody>\n",
       "    <tr>\n",
       "      <th>12691</th>\n",
       "      <td>12692</td>\n",
       "      <td>México DF Taxi Libre</td>\n",
       "      <td>2016-10-27 11:19:44</td>\n",
       "      <td>2016-10-27 11:38:35</td>\n",
       "      <td>-99.170637</td>\n",
       "      <td>19.283637</td>\n",
       "      <td>-99.178194</td>\n",
       "      <td>19.280982</td>\n",
       "      <td>N</td>\n",
       "      <td>1131</td>\n",
       "      <td>6051</td>\n",
       "      <td>228</td>\n",
       "    </tr>\n",
       "    <tr>\n",
       "      <th>12692</th>\n",
       "      <td>12693</td>\n",
       "      <td>México DF Taxi de Sitio</td>\n",
       "      <td>2016-10-28 06:49:41</td>\n",
       "      <td>2016-10-28 06:51:25</td>\n",
       "      <td>-99.194384</td>\n",
       "      <td>19.396768</td>\n",
       "      <td>-99.194622</td>\n",
       "      <td>19.396717</td>\n",
       "      <td>N</td>\n",
       "      <td>104</td>\n",
       "      <td>49</td>\n",
       "      <td>96</td>\n",
       "    </tr>\n",
       "    <tr>\n",
       "      <th>12693</th>\n",
       "      <td>12694</td>\n",
       "      <td>México DF Radio Taxi</td>\n",
       "      <td>2016-10-27 10:26:38</td>\n",
       "      <td>2016-10-28 07:10:21</td>\n",
       "      <td>-99.180135</td>\n",
       "      <td>19.369919</td>\n",
       "      <td>-99.180551</td>\n",
       "      <td>19.372276</td>\n",
       "      <td>N</td>\n",
       "      <td>31424</td>\n",
       "      <td>3448</td>\n",
       "      <td>217</td>\n",
       "    </tr>\n",
       "  </tbody>\n",
       "</table>\n",
       "</div>"
      ],
      "text/plain": [
       "          id                vendor_id      pickup_datetime  \\\n",
       "12691  12692     México DF Taxi Libre  2016-10-27 11:19:44   \n",
       "12692  12693  México DF Taxi de Sitio  2016-10-28 06:49:41   \n",
       "12693  12694     México DF Radio Taxi  2016-10-27 10:26:38   \n",
       "\n",
       "          dropoff_datetime  pickup_longitude  pickup_latitude  \\\n",
       "12691  2016-10-27 11:38:35        -99.170637        19.283637   \n",
       "12692  2016-10-28 06:51:25        -99.194384        19.396768   \n",
       "12693  2016-10-28 07:10:21        -99.180135        19.369919   \n",
       "\n",
       "       dropoff_longitude  dropoff_latitude store_and_fwd_flag  trip_duration  \\\n",
       "12691         -99.178194         19.280982                  N           1131   \n",
       "12692         -99.194622         19.396717                  N            104   \n",
       "12693         -99.180551         19.372276                  N          31424   \n",
       "\n",
       "       dist_meters  wait_sec  \n",
       "12691         6051       228  \n",
       "12692           49        96  \n",
       "12693         3448       217  "
      ]
     },
     "execution_count": 6,
     "metadata": {},
     "output_type": "execute_result"
    }
   ],
   "source": [
    "mex_df.tail(3)"
   ]
  },
  {
   "cell_type": "code",
   "execution_count": 7,
   "metadata": {},
   "outputs": [
    {
     "data": {
      "text/html": [
       "<div>\n",
       "<style scoped>\n",
       "    .dataframe tbody tr th:only-of-type {\n",
       "        vertical-align: middle;\n",
       "    }\n",
       "\n",
       "    .dataframe tbody tr th {\n",
       "        vertical-align: top;\n",
       "    }\n",
       "\n",
       "    .dataframe thead th {\n",
       "        text-align: right;\n",
       "    }\n",
       "</style>\n",
       "<table border=\"1\" class=\"dataframe\">\n",
       "  <thead>\n",
       "    <tr style=\"text-align: right;\">\n",
       "      <th></th>\n",
       "      <th>id</th>\n",
       "      <th>vendor_id</th>\n",
       "      <th>pickup_datetime</th>\n",
       "      <th>dropoff_datetime</th>\n",
       "      <th>pickup_longitude</th>\n",
       "      <th>pickup_latitude</th>\n",
       "      <th>dropoff_longitude</th>\n",
       "      <th>dropoff_latitude</th>\n",
       "      <th>store_and_fwd_flag</th>\n",
       "      <th>trip_duration</th>\n",
       "      <th>dist_meters</th>\n",
       "      <th>wait_sec</th>\n",
       "    </tr>\n",
       "  </thead>\n",
       "  <tbody>\n",
       "    <tr>\n",
       "      <th>32363</th>\n",
       "      <td>32364</td>\n",
       "      <td>Quito</td>\n",
       "      <td>2016-10-27 12:10:18</td>\n",
       "      <td>2016-10-27 06:33:53</td>\n",
       "      <td>-78.477247</td>\n",
       "      <td>-0.107514</td>\n",
       "      <td>-78.490093</td>\n",
       "      <td>-0.100859</td>\n",
       "      <td>N</td>\n",
       "      <td>66216</td>\n",
       "      <td>23607</td>\n",
       "      <td>958</td>\n",
       "    </tr>\n",
       "    <tr>\n",
       "      <th>32364</th>\n",
       "      <td>32365</td>\n",
       "      <td>Quito</td>\n",
       "      <td>2016-10-25 04:58:55</td>\n",
       "      <td>2016-10-25 05:00:25</td>\n",
       "      <td>-78.550264</td>\n",
       "      <td>-0.256730</td>\n",
       "      <td>-78.550306</td>\n",
       "      <td>-0.256756</td>\n",
       "      <td>N</td>\n",
       "      <td>91</td>\n",
       "      <td>43</td>\n",
       "      <td>70</td>\n",
       "    </tr>\n",
       "    <tr>\n",
       "      <th>32365</th>\n",
       "      <td>32366</td>\n",
       "      <td>Quito</td>\n",
       "      <td>2016-10-28 06:47:59</td>\n",
       "      <td>2016-10-28 06:58:31</td>\n",
       "      <td>-78.431986</td>\n",
       "      <td>-0.341538</td>\n",
       "      <td>-78.446296</td>\n",
       "      <td>-0.327428</td>\n",
       "      <td>N</td>\n",
       "      <td>633</td>\n",
       "      <td>3296</td>\n",
       "      <td>150</td>\n",
       "    </tr>\n",
       "  </tbody>\n",
       "</table>\n",
       "</div>"
      ],
      "text/plain": [
       "          id vendor_id      pickup_datetime     dropoff_datetime  \\\n",
       "32363  32364     Quito  2016-10-27 12:10:18  2016-10-27 06:33:53   \n",
       "32364  32365     Quito  2016-10-25 04:58:55  2016-10-25 05:00:25   \n",
       "32365  32366     Quito  2016-10-28 06:47:59  2016-10-28 06:58:31   \n",
       "\n",
       "       pickup_longitude  pickup_latitude  dropoff_longitude  dropoff_latitude  \\\n",
       "32363        -78.477247        -0.107514         -78.490093         -0.100859   \n",
       "32364        -78.550264        -0.256730         -78.550306         -0.256756   \n",
       "32365        -78.431986        -0.341538         -78.446296         -0.327428   \n",
       "\n",
       "      store_and_fwd_flag  trip_duration  dist_meters  wait_sec  \n",
       "32363                  N          66216        23607       958  \n",
       "32364                  N             91           43        70  \n",
       "32365                  N            633         3296       150  "
      ]
     },
     "execution_count": 7,
     "metadata": {},
     "output_type": "execute_result"
    }
   ],
   "source": [
    "equ_df.tail(3)"
   ]
  },
  {
   "cell_type": "code",
   "execution_count": 8,
   "metadata": {},
   "outputs": [
    {
     "name": "stdout",
     "output_type": "stream",
     "text": [
      "(3063, 12)\n",
      "(12694, 12)\n",
      "(32366, 12)\n"
     ]
    }
   ],
   "source": [
    "print(bog_df.shape)\n",
    "print(mex_df.shape)\n",
    "print(equ_df.shape)"
   ]
  },
  {
   "cell_type": "code",
   "execution_count": 9,
   "metadata": {},
   "outputs": [
    {
     "data": {
      "text/plain": [
       "id                    0\n",
       "vendor_id             0\n",
       "pickup_datetime       0\n",
       "dropoff_datetime      0\n",
       "pickup_longitude      0\n",
       "pickup_latitude       0\n",
       "dropoff_longitude     0\n",
       "dropoff_latitude      0\n",
       "store_and_fwd_flag    0\n",
       "trip_duration         0\n",
       "dist_meters           0\n",
       "wait_sec              0\n",
       "dtype: int64"
      ]
     },
     "execution_count": 9,
     "metadata": {},
     "output_type": "execute_result"
    }
   ],
   "source": [
    "# check missing data each files\n",
    "bog_df.isna().sum(axis=0)"
   ]
  },
  {
   "cell_type": "code",
   "execution_count": 10,
   "metadata": {},
   "outputs": [
    {
     "data": {
      "text/plain": [
       "id                    0\n",
       "vendor_id             0\n",
       "pickup_datetime       0\n",
       "dropoff_datetime      0\n",
       "pickup_longitude      0\n",
       "pickup_latitude       0\n",
       "dropoff_longitude     0\n",
       "dropoff_latitude      0\n",
       "store_and_fwd_flag    0\n",
       "trip_duration         0\n",
       "dist_meters           0\n",
       "wait_sec              0\n",
       "dtype: int64"
      ]
     },
     "execution_count": 10,
     "metadata": {},
     "output_type": "execute_result"
    }
   ],
   "source": [
    "mex_df.isna().sum(axis=0)"
   ]
  },
  {
   "cell_type": "code",
   "execution_count": 11,
   "metadata": {},
   "outputs": [
    {
     "data": {
      "text/plain": [
       "id                    0\n",
       "vendor_id             0\n",
       "pickup_datetime       0\n",
       "dropoff_datetime      0\n",
       "pickup_longitude      0\n",
       "pickup_latitude       0\n",
       "dropoff_longitude     0\n",
       "dropoff_latitude      0\n",
       "store_and_fwd_flag    0\n",
       "trip_duration         0\n",
       "dist_meters           0\n",
       "wait_sec              0\n",
       "dtype: int64"
      ]
     },
     "execution_count": 11,
     "metadata": {},
     "output_type": "execute_result"
    }
   ],
   "source": [
    "equ_df.isna().sum(axis=0)"
   ]
  },
  {
   "cell_type": "code",
   "execution_count": 12,
   "metadata": {},
   "outputs": [
    {
     "name": "stdout",
     "output_type": "stream",
     "text": [
      "(48123, 12)\n"
     ]
    }
   ],
   "source": [
    "# looks good no missing data\n",
    "# lets just concat the datasets from bogota, mexico, and equador\n",
    "# then sort by ID\n",
    "dataset_df = pd.concat([bog_df, mex_df, equ_df], ignore_index=True)\n",
    "dataset_df = dataset_df.sort_values(by=['id'])\n",
    "print(dataset_df.shape)"
   ]
  },
  {
   "cell_type": "code",
   "execution_count": 13,
   "metadata": {},
   "outputs": [
    {
     "name": "stdout",
     "output_type": "stream",
     "text": [
      "<class 'pandas.core.frame.DataFrame'>\n",
      "Int64Index: 48123 entries, 0 to 48122\n",
      "Data columns (total 12 columns):\n",
      " #   Column              Non-Null Count  Dtype  \n",
      "---  ------              --------------  -----  \n",
      " 0   id                  48123 non-null  int64  \n",
      " 1   vendor_id           48123 non-null  object \n",
      " 2   pickup_datetime     48123 non-null  object \n",
      " 3   dropoff_datetime    48123 non-null  object \n",
      " 4   pickup_longitude    48123 non-null  float64\n",
      " 5   pickup_latitude     48123 non-null  float64\n",
      " 6   dropoff_longitude   48123 non-null  float64\n",
      " 7   dropoff_latitude    48123 non-null  float64\n",
      " 8   store_and_fwd_flag  48123 non-null  object \n",
      " 9   trip_duration       48123 non-null  int64  \n",
      " 10  dist_meters         48123 non-null  int64  \n",
      " 11  wait_sec            48123 non-null  int64  \n",
      "dtypes: float64(4), int64(4), object(4)\n",
      "memory usage: 4.8+ MB\n"
     ]
    }
   ],
   "source": [
    "# check type data each column\n",
    "dataset_df.info()"
   ]
  },
  {
   "cell_type": "code",
   "execution_count": 14,
   "metadata": {},
   "outputs": [
    {
     "data": {
      "text/plain": [
       "array(['N'], dtype=object)"
      ]
     },
     "execution_count": 14,
     "metadata": {},
     "output_type": "execute_result"
    }
   ],
   "source": [
    "# check suspicious store_and_fwd_flag value\n",
    "dataset_df[\"store_and_fwd_flag\"].unique()"
   ]
  },
  {
   "cell_type": "code",
   "execution_count": 15,
   "metadata": {},
   "outputs": [],
   "source": [
    "# so store_and_fwd_flag only have one unique value, just drop it coz not very useful\n",
    "dataset_df = dataset_df.drop(columns=\"store_and_fwd_flag\")"
   ]
  },
  {
   "cell_type": "code",
   "execution_count": 16,
   "metadata": {},
   "outputs": [
    {
     "name": "stdout",
     "output_type": "stream",
     "text": [
      "(48123, 11)\n"
     ]
    }
   ],
   "source": [
    "# check and drop if there is any duplicated data\n",
    "dataset_df = dataset_df.drop_duplicates()\n",
    "print(dataset_df.shape)"
   ]
  },
  {
   "cell_type": "code",
   "execution_count": null,
   "metadata": {},
   "outputs": [],
   "source": []
  }
 ],
 "metadata": {
  "kernelspec": {
   "display_name": "Python 3.10.4 ('directml310')",
   "language": "python",
   "name": "python3"
  },
  "language_info": {
   "codemirror_mode": {
    "name": "ipython",
    "version": 3
   },
   "file_extension": ".py",
   "mimetype": "text/x-python",
   "name": "python",
   "nbconvert_exporter": "python",
   "pygments_lexer": "ipython3",
   "version": "3.10.4"
  },
  "orig_nbformat": 4,
  "vscode": {
   "interpreter": {
    "hash": "b97acc0761a111f21c1273e9e1ea79387ac0b5d81cec126fc583961bef2cf645"
   }
  }
 },
 "nbformat": 4,
 "nbformat_minor": 2
}
