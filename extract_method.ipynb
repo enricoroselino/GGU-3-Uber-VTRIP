{
 "cells": [
  {
   "cell_type": "code",
   "execution_count": 1,
   "metadata": {},
   "outputs": [],
   "source": [
    "import pandas as pd\n",
    "import os\n",
    "from datetime import date, datetime\n",
    "import re"
   ]
  },
  {
   "cell_type": "code",
   "execution_count": 32,
   "metadata": {},
   "outputs": [],
   "source": [
    "# OS dependent path\n",
    "# load bog, mex, and uio csv\n",
    "bog_path = os.path.join(\"dataset\", \"bog_clean.csv\")\n",
    "mex_path = os.path.join(\"dataset\", \"mex_clean.csv\")\n",
    "equ_path = os.path.join(\"dataset\", \"uio_clean.csv\")\n",
    "# read dataset\n",
    "bog_df = pd.read_csv(bog_path)\n",
    "mex_df = pd.read_csv(mex_path)\n",
    "equ_df = pd.read_csv(equ_path)\n",
    "bog_df[\"country\"] = \"colombia\"\n",
    "mex_df[\"country\"] = \"mexico\"\n",
    "equ_df[\"country\"] = \"equador\"\n",
    "dataset_df = pd.concat([bog_df, mex_df, equ_df], ignore_index=True)\n",
    "dataset_df = dataset_df.drop([\"store_and_fwd_flag\", \"id\"], axis=1)\n",
    "dataset_df = dataset_df.drop_duplicates()\n",
    "# change date and time format\n",
    "dataset_df[\"pickup_datetime\"] = pd.to_datetime(dataset_df[\"pickup_datetime\"], format=\"%Y/%m/%d %H:%M:%S\")\n",
    "dataset_df[\"dropoff_datetime\"] = pd.to_datetime(dataset_df[\"dropoff_datetime\"], format=\"%Y/%m/%d %H:%M:%S\")\n",
    "# strip time from datetime\n",
    "dataset_df[\"pickup_datetime\"] = pd.to_datetime(dataset_df[\"pickup_datetime\"]).dt.date\n",
    "dataset_df[\"dropoff_datetime\"] = pd.to_datetime(dataset_df[\"dropoff_datetime\"]).dt.date\n",
    "# sort by pickup date time\n",
    "dataset_df = dataset_df.sort_values(by=[\"pickup_datetime\"])\n",
    "dataset_df = dataset_df.reset_index(drop=True)"
   ]
  },
  {
   "cell_type": "code",
   "execution_count": 106,
   "metadata": {},
   "outputs": [],
   "source": [
    "def services_extractor(df) :\n",
    "    # extract service name from vendor_id and map service based in 2022 services\n",
    "    # some normal services not available in 2022, it'll be taxi service instead\n",
    "    # uberangel is exclusive to colombia will be, it'll be uberblack service instead\n",
    "    # ubersuv will be uberxl\n",
    "    SERVICE_NAME = re.compile(\n",
    "        r\"taxi|uberxl|uberx|uberblack|ubervan|uberangel|ubersuv\"\n",
    "    )\n",
    "    df[\"vendor_id\"] = df[\"vendor_id\"].str.lower()\n",
    "    service = []\n",
    "    for i in range(len(df)) :\n",
    "        extract = SERVICE_NAME.search(df.vendor_id[i])\n",
    "        if extract != None :\n",
    "            if (extract  == \"ubervan\") or (extract == \"ubersuv\") :\n",
    "                service.append(\"uberxl\")\n",
    "            elif extract == \"uberangel\" :\n",
    "                service.append(\"uberblack\")\n",
    "            else : \n",
    "                service.append(extract.group())\n",
    "        else :\n",
    "            service.append(\"taxi\")\n",
    "    return service"
   ]
  },
  {
   "cell_type": "code",
   "execution_count": 107,
   "metadata": {},
   "outputs": [],
   "source": [
    "dataset_df[\"service\"] = services_extractor(dataset_df)"
   ]
  },
  {
   "cell_type": "code",
   "execution_count": 125,
   "metadata": {},
   "outputs": [
    {
     "data": {
      "text/html": [
       "<div>\n",
       "<style scoped>\n",
       "    .dataframe tbody tr th:only-of-type {\n",
       "        vertical-align: middle;\n",
       "    }\n",
       "\n",
       "    .dataframe tbody tr th {\n",
       "        vertical-align: top;\n",
       "    }\n",
       "\n",
       "    .dataframe thead th {\n",
       "        text-align: right;\n",
       "    }\n",
       "</style>\n",
       "<table border=\"1\" class=\"dataframe\">\n",
       "  <thead>\n",
       "    <tr style=\"text-align: right;\">\n",
       "      <th></th>\n",
       "      <th>vendor_id</th>\n",
       "      <th>pickup_datetime</th>\n",
       "      <th>dropoff_datetime</th>\n",
       "      <th>pickup_longitude</th>\n",
       "      <th>pickup_latitude</th>\n",
       "      <th>dropoff_longitude</th>\n",
       "      <th>dropoff_latitude</th>\n",
       "      <th>trip_duration</th>\n",
       "      <th>dist_meters</th>\n",
       "      <th>wait_sec</th>\n",
       "      <th>country</th>\n",
       "      <th>service</th>\n",
       "    </tr>\n",
       "  </thead>\n",
       "  <tbody>\n",
       "    <tr>\n",
       "      <th>44333</th>\n",
       "      <td>méxico df taxi libre</td>\n",
       "      <td>2017-07-05</td>\n",
       "      <td>2017-07-05</td>\n",
       "      <td>-99.152050</td>\n",
       "      <td>19.271990</td>\n",
       "      <td>-99.142043</td>\n",
       "      <td>19.273949</td>\n",
       "      <td>3211</td>\n",
       "      <td>11169</td>\n",
       "      <td>34</td>\n",
       "      <td>mexico</td>\n",
       "      <td>taxi</td>\n",
       "    </tr>\n",
       "    <tr>\n",
       "      <th>43340</th>\n",
       "      <td>méxico df taxi libre</td>\n",
       "      <td>2017-06-30</td>\n",
       "      <td>2017-06-30</td>\n",
       "      <td>-99.195894</td>\n",
       "      <td>19.461551</td>\n",
       "      <td>-99.191667</td>\n",
       "      <td>19.461115</td>\n",
       "      <td>352</td>\n",
       "      <td>528</td>\n",
       "      <td>228</td>\n",
       "      <td>mexico</td>\n",
       "      <td>taxi</td>\n",
       "    </tr>\n",
       "    <tr>\n",
       "      <th>38057</th>\n",
       "      <td>méxico df taxi de sitio</td>\n",
       "      <td>2017-05-27</td>\n",
       "      <td>2017-05-28</td>\n",
       "      <td>-99.129511</td>\n",
       "      <td>19.403455</td>\n",
       "      <td>-99.132485</td>\n",
       "      <td>19.419508</td>\n",
       "      <td>30111</td>\n",
       "      <td>26483</td>\n",
       "      <td>29244</td>\n",
       "      <td>mexico</td>\n",
       "      <td>taxi</td>\n",
       "    </tr>\n",
       "    <tr>\n",
       "      <th>24457</th>\n",
       "      <td>méxico df radio taxi</td>\n",
       "      <td>2017-01-24</td>\n",
       "      <td>2017-01-24</td>\n",
       "      <td>-99.158556</td>\n",
       "      <td>19.391170</td>\n",
       "      <td>-99.158474</td>\n",
       "      <td>19.394416</td>\n",
       "      <td>164</td>\n",
       "      <td>440</td>\n",
       "      <td>56</td>\n",
       "      <td>mexico</td>\n",
       "      <td>taxi</td>\n",
       "    </tr>\n",
       "    <tr>\n",
       "      <th>35940</th>\n",
       "      <td>méxico df uberx</td>\n",
       "      <td>2017-05-12</td>\n",
       "      <td>2017-05-13</td>\n",
       "      <td>-99.194619</td>\n",
       "      <td>19.490237</td>\n",
       "      <td>-99.041315</td>\n",
       "      <td>19.601997</td>\n",
       "      <td>44291</td>\n",
       "      <td>22990</td>\n",
       "      <td>1143</td>\n",
       "      <td>mexico</td>\n",
       "      <td>uberx</td>\n",
       "    </tr>\n",
       "    <tr>\n",
       "      <th>2988</th>\n",
       "      <td>méxico df radio taxi</td>\n",
       "      <td>2016-07-25</td>\n",
       "      <td>2016-07-25</td>\n",
       "      <td>-99.172297</td>\n",
       "      <td>19.418748</td>\n",
       "      <td>-99.246497</td>\n",
       "      <td>19.494255</td>\n",
       "      <td>3076</td>\n",
       "      <td>23135</td>\n",
       "      <td>806</td>\n",
       "      <td>mexico</td>\n",
       "      <td>taxi</td>\n",
       "    </tr>\n",
       "    <tr>\n",
       "      <th>12418</th>\n",
       "      <td>méxico df uberxl</td>\n",
       "      <td>2016-10-29</td>\n",
       "      <td>2016-10-29</td>\n",
       "      <td>-99.211436</td>\n",
       "      <td>19.285720</td>\n",
       "      <td>-99.139887</td>\n",
       "      <td>19.341590</td>\n",
       "      <td>2761</td>\n",
       "      <td>13789</td>\n",
       "      <td>276</td>\n",
       "      <td>mexico</td>\n",
       "      <td>uberxl</td>\n",
       "    </tr>\n",
       "  </tbody>\n",
       "</table>\n",
       "</div>"
      ],
      "text/plain": [
       "                     vendor_id pickup_datetime dropoff_datetime  \\\n",
       "44333     méxico df taxi libre      2017-07-05       2017-07-05   \n",
       "43340     méxico df taxi libre      2017-06-30       2017-06-30   \n",
       "38057  méxico df taxi de sitio      2017-05-27       2017-05-28   \n",
       "24457     méxico df radio taxi      2017-01-24       2017-01-24   \n",
       "35940          méxico df uberx      2017-05-12       2017-05-13   \n",
       "2988      méxico df radio taxi      2016-07-25       2016-07-25   \n",
       "12418         méxico df uberxl      2016-10-29       2016-10-29   \n",
       "\n",
       "       pickup_longitude  pickup_latitude  dropoff_longitude  dropoff_latitude  \\\n",
       "44333        -99.152050        19.271990         -99.142043         19.273949   \n",
       "43340        -99.195894        19.461551         -99.191667         19.461115   \n",
       "38057        -99.129511        19.403455         -99.132485         19.419508   \n",
       "24457        -99.158556        19.391170         -99.158474         19.394416   \n",
       "35940        -99.194619        19.490237         -99.041315         19.601997   \n",
       "2988         -99.172297        19.418748         -99.246497         19.494255   \n",
       "12418        -99.211436        19.285720         -99.139887         19.341590   \n",
       "\n",
       "       trip_duration  dist_meters  wait_sec country service  \n",
       "44333           3211        11169        34  mexico    taxi  \n",
       "43340            352          528       228  mexico    taxi  \n",
       "38057          30111        26483     29244  mexico    taxi  \n",
       "24457            164          440        56  mexico    taxi  \n",
       "35940          44291        22990      1143  mexico   uberx  \n",
       "2988            3076        23135       806  mexico    taxi  \n",
       "12418           2761        13789       276  mexico  uberxl  "
      ]
     },
     "execution_count": 125,
     "metadata": {},
     "output_type": "execute_result"
    }
   ],
   "source": [
    "dataset_df[dataset_df[\"country\"] == \"mexico\"].sample(7)"
   ]
  },
  {
   "cell_type": "code",
   "execution_count": null,
   "metadata": {},
   "outputs": [],
   "source": [
    "dataset_df[dataset_df[\"country\"] == \"mexico\"].sample(3)"
   ]
  },
  {
   "cell_type": "code",
   "execution_count": 68,
   "metadata": {},
   "outputs": [
    {
     "data": {
      "text/html": [
       "<div>\n",
       "<style scoped>\n",
       "    .dataframe tbody tr th:only-of-type {\n",
       "        vertical-align: middle;\n",
       "    }\n",
       "\n",
       "    .dataframe tbody tr th {\n",
       "        vertical-align: top;\n",
       "    }\n",
       "\n",
       "    .dataframe thead th {\n",
       "        text-align: right;\n",
       "    }\n",
       "</style>\n",
       "<table border=\"1\" class=\"dataframe\">\n",
       "  <thead>\n",
       "    <tr style=\"text-align: right;\">\n",
       "      <th></th>\n",
       "      <th>vendor_id</th>\n",
       "      <th>pickup_datetime</th>\n",
       "      <th>dropoff_datetime</th>\n",
       "      <th>pickup_longitude</th>\n",
       "      <th>pickup_latitude</th>\n",
       "      <th>dropoff_longitude</th>\n",
       "      <th>dropoff_latitude</th>\n",
       "      <th>trip_duration</th>\n",
       "      <th>dist_meters</th>\n",
       "      <th>wait_sec</th>\n",
       "      <th>country</th>\n",
       "      <th>service</th>\n",
       "    </tr>\n",
       "  </thead>\n",
       "  <tbody>\n",
       "  </tbody>\n",
       "</table>\n",
       "</div>"
      ],
      "text/plain": [
       "Empty DataFrame\n",
       "Columns: [vendor_id, pickup_datetime, dropoff_datetime, pickup_longitude, pickup_latitude, dropoff_longitude, dropoff_latitude, trip_duration, dist_meters, wait_sec, country, service]\n",
       "Index: []"
      ]
     },
     "execution_count": 68,
     "metadata": {},
     "output_type": "execute_result"
    }
   ],
   "source": [
    "dataset_df[dataset_df[\"vendor_id\"]== \"México DF UberBlack\"]"
   ]
  },
  {
   "cell_type": "code",
   "execution_count": 28,
   "metadata": {},
   "outputs": [
    {
     "data": {
      "text/plain": [
       "array(['México DF Taxi de Sitio', 'México DF Radio Taxi',\n",
       "       'México DF Taxi Libre', 'México DF UberX', 'México DF UberXL',\n",
       "       'México DF UberBlack', 'México DF UberSUV'], dtype=object)"
      ]
     },
     "execution_count": 28,
     "metadata": {},
     "output_type": "execute_result"
    }
   ],
   "source": [
    "(dataset_df[dataset_df[\"country\"] == \"mexico\"])[\"vendor_id\"].unique()"
   ]
  },
  {
   "cell_type": "code",
   "execution_count": 30,
   "metadata": {},
   "outputs": [
    {
     "data": {
      "text/plain": [
       "array(['Quito', 'Quito Cabify Lite', 'Quito Cabify Executive',\n",
       "       'Quito UberX'], dtype=object)"
      ]
     },
     "execution_count": 30,
     "metadata": {},
     "output_type": "execute_result"
    }
   ],
   "source": [
    "(dataset_df[dataset_df[\"country\"] == \"equador\"])[\"vendor_id\"].unique()"
   ]
  },
  {
   "cell_type": "code",
   "execution_count": 31,
   "metadata": {},
   "outputs": [
    {
     "data": {
      "text/plain": [
       "array(['Bogotá', 'Bogotá UberX', 'Bogotá UberVan', 'Bogota UberBlack',\n",
       "       'Bogotá UberAngel'], dtype=object)"
      ]
     },
     "execution_count": 31,
     "metadata": {},
     "output_type": "execute_result"
    }
   ],
   "source": [
    "(dataset_df[dataset_df[\"country\"] == \"colombia\"])[\"vendor_id\"].unique()"
   ]
  },
  {
   "cell_type": "code",
   "execution_count": null,
   "metadata": {},
   "outputs": [],
   "source": [
    "country = df[\"country\"].unique()\n",
    "for cname in country :\n",
    "        for j in range(len(df[f\"{cname}\"])) :\n",
    "            pass"
   ]
  },
  {
   "cell_type": "code",
   "execution_count": null,
   "metadata": {},
   "outputs": [],
   "source": [
    "dataset_df[(dataset_df.country == \"equador\")]"
   ]
  },
  {
   "cell_type": "code",
   "execution_count": null,
   "metadata": {},
   "outputs": [],
   "source": [
    "test = dataset_df[\"country\"].unique()\n",
    "print(test[0])"
   ]
  },
  {
   "cell_type": "code",
   "execution_count": null,
   "metadata": {},
   "outputs": [],
   "source": [
    "for i in test : \n",
    "    print(i)"
   ]
  },
  {
   "cell_type": "code",
   "execution_count": null,
   "metadata": {},
   "outputs": [],
   "source": [
    "dataset_df[\"vendor_id\"].str.lower()"
   ]
  },
  {
   "cell_type": "code",
   "execution_count": 37,
   "metadata": {},
   "outputs": [
    {
     "name": "stdout",
     "output_type": "stream",
     "text": [
      "taxi\n"
     ]
    }
   ],
   "source": [
    "SERVICE_NAME = re.compile(\n",
    "    r\"taxi|uberx|uberblack|ubervan|uberangel|uberxl|ubersuv\"\n",
    ")\n",
    "extract = SERVICE_NAME.search(\"wkwkwkw \")\n",
    "if extract == None :\n",
    "    print(\"taxi\")\n",
    "else :\n",
    "    print(extract.group())"
   ]
  },
  {
   "cell_type": "code",
   "execution_count": 105,
   "metadata": {},
   "outputs": [
    {
     "name": "stdout",
     "output_type": "stream",
     "text": [
      "Tina Fey\n"
     ]
    }
   ],
   "source": [
    "heroRegex = re.compile (r'Batman|Tina Fey|Enrico Roselino')\n",
    "mo1 = heroRegex.search('Enrico Roselin and Tina Fey.')\n",
    "mo1 = mo1.group()\n",
    "print(mo1)"
   ]
  }
 ],
 "metadata": {
  "kernelspec": {
   "display_name": "Python 3.10.4 ('directml310')",
   "language": "python",
   "name": "python3"
  },
  "language_info": {
   "codemirror_mode": {
    "name": "ipython",
    "version": 3
   },
   "file_extension": ".py",
   "mimetype": "text/x-python",
   "name": "python",
   "nbconvert_exporter": "python",
   "pygments_lexer": "ipython3",
   "version": "3.10.4"
  },
  "orig_nbformat": 4,
  "vscode": {
   "interpreter": {
    "hash": "b97acc0761a111f21c1273e9e1ea79387ac0b5d81cec126fc583961bef2cf645"
   }
  }
 },
 "nbformat": 4,
 "nbformat_minor": 2
}
