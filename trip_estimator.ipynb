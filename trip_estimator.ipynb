{
 "cells": [
  {
   "cell_type": "code",
   "execution_count": 5,
   "metadata": {},
   "outputs": [],
   "source": [
    "import pandas as pd\n",
    "import os\n",
    "from datetime import date, datetime\n",
    "import json\n",
    "import requests"
   ]
  },
  {
   "cell_type": "code",
   "execution_count": 6,
   "metadata": {},
   "outputs": [],
   "source": [
    "# OS dependent path\n",
    "# load bog, mex, and uio csv\n",
    "bog_path = os.path.join(\"dataset\", \"bog_clean.csv\")\n",
    "mex_path = os.path.join(\"dataset\", \"mex_clean.csv\")\n",
    "equ_path = os.path.join(\"dataset\", \"uio_clean.csv\")\n",
    "# read dataset\n",
    "bog_df = pd.read_csv(bog_path)\n",
    "mex_df = pd.read_csv(mex_path)\n",
    "equ_df = pd.read_csv(equ_path)\n",
    "dataset_df = pd.concat([bog_df, mex_df, equ_df], ignore_index=True)\n",
    "dataset_df = dataset_df.drop([\"store_and_fwd_flag\", \"id\"], axis=1)\n",
    "dataset_df = dataset_df.drop_duplicates()\n",
    "# change date and time format\n",
    "dataset_df[\"pickup_datetime\"] = pd.to_datetime(dataset_df[\"pickup_datetime\"], format=\"%Y/%m/%d %H:%M:%S\")\n",
    "dataset_df[\"dropoff_datetime\"] = pd.to_datetime(dataset_df[\"dropoff_datetime\"], format=\"%Y/%m/%d %H:%M:%S\")\n",
    "# strip time from datetime\n",
    "dataset_df[\"pickup_datetime\"] = pd.to_datetime(dataset_df[\"pickup_datetime\"]).dt.date\n",
    "dataset_df[\"dropoff_datetime\"] = pd.to_datetime(dataset_df[\"dropoff_datetime\"]).dt.date\n",
    "# sort by pickup date time\n",
    "dataset_df = dataset_df.sort_values(by=[\"pickup_datetime\"])\n",
    "dataset_df = dataset_df.reset_index(drop=True)"
   ]
  },
  {
   "cell_type": "code",
   "execution_count": 7,
   "metadata": {},
   "outputs": [],
   "source": [
    "def distance_duration_estimator(df) :\n",
    "    # calculate the duration then append to est_duration\n",
    "    # using OSRM (Open Source Routing Machine) API\n",
    "    # we could use haversine instead, but its not realistic to measure the distance of a straight line\n",
    "    distance = []\n",
    "    duration = []\n",
    "    for i in range(len(df)) :\n",
    "        PICKUP_LONG = df.pickup_longitude[i]\n",
    "        PICKUP_LAT = df.pickup_latitude[i]\n",
    "        DROPOFF_LONG = df.dropoff_longitude[i]\n",
    "        DROPOFF_LAT = df.dropoff_latitude[i]\n",
    "        result = osrm_api(PICKUP_LONG, PICKUP_LAT, DROPOFF_LONG, DROPOFF_LAT)\n",
    "        distance.append(result[0])\n",
    "        duration.append(result[1])\n",
    "    return distance, duration\n",
    "\n",
    "def osrm_api(p_lon, p_lat, d_lon, d_lat) :\n",
    "    # request API to get driving distance and duration between 2 locations\n",
    "    # http://project-osrm.org/\n",
    "    # distance in meters and duration in seconds\n",
    "    r = requests.get(\n",
    "            f\"\"\"http://router.project-osrm.org/route/v1/driving/{p_lon},{p_lat};{d_lon},{d_lat}?overview=false\"\"\"\n",
    "    )\n",
    "    route = json.loads(r.content)[\"routes\"][0]\n",
    "    map_distance = route[\"distance\"]\n",
    "    map_duration = route[\"duration\"]\n",
    "    return map_distance, map_duration"
   ]
  },
  {
   "cell_type": "code",
   "execution_count": null,
   "metadata": {},
   "outputs": [],
   "source": [
    "est_dist, est_duration = distance_duration_estimator(dataset_df)"
   ]
  },
  {
   "cell_type": "code",
   "execution_count": null,
   "metadata": {},
   "outputs": [],
   "source": [
    "estimation = pd.DataFrame({\n",
    "    \"est_dist\" : est_dist,\n",
    "    \"est_duration\" : est_duration\n",
    "})\n",
    "\n",
    "estimation.to_csv(os.path.join(\"dataset\", \"trip_estimated.csv\"), index=False)"
   ]
  }
 ],
 "metadata": {
  "kernelspec": {
   "display_name": "Python 3.10.4 ('directml310')",
   "language": "python",
   "name": "python3"
  },
  "language_info": {
   "codemirror_mode": {
    "name": "ipython",
    "version": 3
   },
   "file_extension": ".py",
   "mimetype": "text/x-python",
   "name": "python",
   "nbconvert_exporter": "python",
   "pygments_lexer": "ipython3",
   "version": "3.10.4"
  },
  "orig_nbformat": 4,
  "vscode": {
   "interpreter": {
    "hash": "b97acc0761a111f21c1273e9e1ea79387ac0b5d81cec126fc583961bef2cf645"
   }
  }
 },
 "nbformat": 4,
 "nbformat_minor": 2
}
