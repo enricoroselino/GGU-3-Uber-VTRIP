{
 "cells": [
  {
   "cell_type": "code",
   "execution_count": 1,
   "metadata": {},
   "outputs": [],
   "source": [
    "import tensorflow as tf\n",
    "import pandas as pd\n",
    "import os\n",
    "from fast_ml.model_development import train_valid_test_split\n",
    "from imblearn.combine import SMOTETomek\n",
    "import matplotlib.pyplot as plt\n",
    "import seaborn as sns\n",
    "from sklearn.preprocessing import MinMaxScaler\n",
    "from tensorflow.keras.optimizers import Adam\n",
    "from sklearn.metrics import classification_report, f1_score, confusion_matrix\n",
    "\n",
    "%matplotlib inline\n",
    "sns.set()"
   ]
  },
  {
   "cell_type": "code",
   "execution_count": 2,
   "metadata": {},
   "outputs": [],
   "source": [
    "# Set memory limiter for each GPU\n",
    "gpus = tf.config.experimental.list_physical_devices('GPU')\n",
    "if gpus:\n",
    "  try:\n",
    "    for gpu in gpus:\n",
    "      tf.config.experimental.set_memory_growth(gpu, True)\n",
    "  except RuntimeError as e:\n",
    "    print(e)"
   ]
  },
  {
   "cell_type": "code",
   "execution_count": 3,
   "metadata": {},
   "outputs": [],
   "source": [
    "data_path = os.path.join(\"dataset\", \"GGU_classification.csv\")\n",
    "data_df = pd.read_csv(data_path)"
   ]
  },
  {
   "cell_type": "code",
   "execution_count": 4,
   "metadata": {},
   "outputs": [
    {
     "data": {
      "text/html": [
       "<div>\n",
       "<style scoped>\n",
       "    .dataframe tbody tr th:only-of-type {\n",
       "        vertical-align: middle;\n",
       "    }\n",
       "\n",
       "    .dataframe tbody tr th {\n",
       "        vertical-align: top;\n",
       "    }\n",
       "\n",
       "    .dataframe thead th {\n",
       "        text-align: right;\n",
       "    }\n",
       "</style>\n",
       "<table border=\"1\" class=\"dataframe\">\n",
       "  <thead>\n",
       "    <tr style=\"text-align: right;\">\n",
       "      <th></th>\n",
       "      <th>label</th>\n",
       "      <th>price</th>\n",
       "      <th>trip_duration</th>\n",
       "      <th>wait_sec</th>\n",
       "      <th>service_taxi</th>\n",
       "      <th>service_uberblack</th>\n",
       "      <th>service_uberx</th>\n",
       "      <th>service_uberxl</th>\n",
       "      <th>country_colombia</th>\n",
       "      <th>country_equador</th>\n",
       "      <th>country_mexico</th>\n",
       "    </tr>\n",
       "  </thead>\n",
       "  <tbody>\n",
       "    <tr>\n",
       "      <th>26130</th>\n",
       "      <td>0</td>\n",
       "      <td>1.0</td>\n",
       "      <td>492</td>\n",
       "      <td>100</td>\n",
       "      <td>1</td>\n",
       "      <td>0</td>\n",
       "      <td>0</td>\n",
       "      <td>0</td>\n",
       "      <td>0</td>\n",
       "      <td>0</td>\n",
       "      <td>1</td>\n",
       "    </tr>\n",
       "    <tr>\n",
       "      <th>37390</th>\n",
       "      <td>0</td>\n",
       "      <td>1.3</td>\n",
       "      <td>1026</td>\n",
       "      <td>284</td>\n",
       "      <td>1</td>\n",
       "      <td>0</td>\n",
       "      <td>0</td>\n",
       "      <td>0</td>\n",
       "      <td>0</td>\n",
       "      <td>0</td>\n",
       "      <td>1</td>\n",
       "    </tr>\n",
       "    <tr>\n",
       "      <th>37986</th>\n",
       "      <td>0</td>\n",
       "      <td>0.5</td>\n",
       "      <td>1156</td>\n",
       "      <td>598</td>\n",
       "      <td>1</td>\n",
       "      <td>0</td>\n",
       "      <td>0</td>\n",
       "      <td>0</td>\n",
       "      <td>0</td>\n",
       "      <td>1</td>\n",
       "      <td>0</td>\n",
       "    </tr>\n",
       "  </tbody>\n",
       "</table>\n",
       "</div>"
      ],
      "text/plain": [
       "       label  price  trip_duration  wait_sec  service_taxi  service_uberblack  \\\n",
       "26130      0    1.0            492       100             1                  0   \n",
       "37390      0    1.3           1026       284             1                  0   \n",
       "37986      0    0.5           1156       598             1                  0   \n",
       "\n",
       "       service_uberx  service_uberxl  country_colombia  country_equador  \\\n",
       "26130              0               0                 0                0   \n",
       "37390              0               0                 0                0   \n",
       "37986              0               0                 0                1   \n",
       "\n",
       "       country_mexico  \n",
       "26130               1  \n",
       "37390               1  \n",
       "37986               0  "
      ]
     },
     "execution_count": 4,
     "metadata": {},
     "output_type": "execute_result"
    }
   ],
   "source": [
    "data_df.sample(3)"
   ]
  },
  {
   "cell_type": "code",
   "execution_count": 5,
   "metadata": {},
   "outputs": [
    {
     "data": {
      "text/plain": [
       "0    34210\n",
       "1     8163\n",
       "Name: label, dtype: int64"
      ]
     },
     "execution_count": 5,
     "metadata": {},
     "output_type": "execute_result"
    }
   ],
   "source": [
    "data_df[\"label\"].value_counts()"
   ]
  },
  {
   "cell_type": "code",
   "execution_count": 6,
   "metadata": {},
   "outputs": [],
   "source": [
    "scaled_df = data_df\n",
    "scaler = MinMaxScaler()\n",
    "scaled_df[[\"price\", \"trip_duration\", \"wait_sec\"]] = scaler.fit_transform(scaled_df[[\"price\", \"trip_duration\", \"wait_sec\"]])"
   ]
  },
  {
   "cell_type": "code",
   "execution_count": 7,
   "metadata": {},
   "outputs": [],
   "source": [
    "X_train, y_train, X_valid, y_valid, X_test, y_test = train_valid_test_split(scaled_df, target = 'label', \n",
    "                                                                            train_size=0.8, valid_size=0.1, test_size=0.1, random_state=42)"
   ]
  },
  {
   "cell_type": "code",
   "execution_count": 8,
   "metadata": {},
   "outputs": [],
   "source": [
    "# oversampling to handle label imbalance\n",
    "oversample = SMOTETomek(random_state = 42)\n",
    "X_train_sm, y_train_sm = oversample.fit_resample(X_train, y_train)\n",
    "X_valid_sm, y_valid_sm = oversample.fit_resample(X_valid, y_valid)"
   ]
  },
  {
   "cell_type": "code",
   "execution_count": 9,
   "metadata": {},
   "outputs": [
    {
     "data": {
      "text/plain": [
       "0    26746\n",
       "1    26746\n",
       "Name: label, dtype: int64"
      ]
     },
     "execution_count": 9,
     "metadata": {},
     "output_type": "execute_result"
    }
   ],
   "source": [
    "# check label counts\n",
    "y_train_sm.value_counts()"
   ]
  },
  {
   "cell_type": "code",
   "execution_count": 10,
   "metadata": {},
   "outputs": [
    {
     "data": {
      "text/plain": [
       "(53492, 10)"
      ]
     },
     "execution_count": 10,
     "metadata": {},
     "output_type": "execute_result"
    }
   ],
   "source": [
    "X_train_sm.shape"
   ]
  },
  {
   "cell_type": "code",
   "execution_count": 11,
   "metadata": {},
   "outputs": [],
   "source": [
    "csv_log = tf.keras.callbacks.CSVLogger(\n",
    "    os.path.join(\"models\", \"history.csv\"), \n",
    "    separator=\",\", \n",
    "    append=False\n",
    ")\n",
    "\n",
    "earlystop = tf.keras.callbacks.EarlyStopping(\n",
    "    monitor='val_accuracy',\n",
    "    min_delta=0,\n",
    "    patience=2,\n",
    "    verbose=1,\n",
    "    mode='auto',\n",
    "    baseline=None,\n",
    "    restore_best_weights=True\n",
    ")"
   ]
  },
  {
   "cell_type": "code",
   "execution_count": 12,
   "metadata": {},
   "outputs": [],
   "source": [
    "KR = tf.keras.regularizers.L2(\n",
    "    l2=0.0001\n",
    ")\n",
    "#LeakyReLU\n",
    "model = tf.keras.models.Sequential([\n",
    "    tf.keras.layers.LayerNormalization(),\n",
    "    tf.keras.layers.Dense(1200, input_shape=(10, ), activation=\"LeakyReLU\", kernel_regularizer=KR),\n",
    "    tf.keras.layers.Dropout(0.5),\n",
    "    tf.keras.layers.Dense(600, activation=\"LeakyReLU\", kernel_regularizer=KR),\n",
    "    tf.keras.layers.Dropout(0.5),\n",
    "    tf.keras.layers.Dense(300, activation=\"LeakyReLU\", kernel_regularizer=KR),\n",
    "    tf.keras.layers.Dense(1, activation=\"sigmoid\", kernel_regularizer=KR)\n",
    "])"
   ]
  },
  {
   "cell_type": "code",
   "execution_count": 13,
   "metadata": {},
   "outputs": [],
   "source": [
    "model.compile(\n",
    "    optimizer=Adam(learning_rate=0.00001),\n",
    "    loss=\"binary_crossentropy\",\n",
    "    metrics = [\"accuracy\"]\n",
    ")"
   ]
  },
  {
   "cell_type": "code",
   "execution_count": 14,
   "metadata": {},
   "outputs": [
    {
     "name": "stdout",
     "output_type": "stream",
     "text": [
      "Epoch 1/100\n",
      "1672/1672 [==============================] - 23s 13ms/step - loss: 0.4572 - accuracy: 0.9005 - val_loss: 0.3444 - val_accuracy: 0.9435\n",
      "Epoch 2/100\n",
      "1672/1672 [==============================] - 24s 14ms/step - loss: 0.3344 - accuracy: 0.9363 - val_loss: 0.3120 - val_accuracy: 0.9432\n",
      "Epoch 3/100\n",
      "1672/1672 [==============================] - 24s 14ms/step - loss: 0.3104 - accuracy: 0.9427 - val_loss: 0.2962 - val_accuracy: 0.9467\n",
      "Epoch 4/100\n",
      "1672/1672 [==============================] - 25s 15ms/step - loss: 0.2961 - accuracy: 0.9457 - val_loss: 0.2854 - val_accuracy: 0.9475\n",
      "Epoch 5/100\n",
      "1672/1672 [==============================] - 24s 14ms/step - loss: 0.2848 - accuracy: 0.9478 - val_loss: 0.2781 - val_accuracy: 0.9481\n",
      "Epoch 6/100\n",
      "1672/1672 [==============================] - 24s 14ms/step - loss: 0.2769 - accuracy: 0.9486 - val_loss: 0.2729 - val_accuracy: 0.9488\n",
      "Epoch 7/100\n",
      "1672/1672 [==============================] - 24s 14ms/step - loss: 0.2707 - accuracy: 0.9490 - val_loss: 0.2687 - val_accuracy: 0.9493\n",
      "Epoch 8/100\n",
      "1672/1672 [==============================] - 25s 15ms/step - loss: 0.2653 - accuracy: 0.9492 - val_loss: 0.2648 - val_accuracy: 0.9493\n",
      "Epoch 9/100\n",
      "1672/1672 [==============================] - 24s 14ms/step - loss: 0.2603 - accuracy: 0.9498 - val_loss: 0.2608 - val_accuracy: 0.9496\n",
      "Epoch 10/100\n",
      "1672/1672 [==============================] - 25s 15ms/step - loss: 0.2572 - accuracy: 0.9497 - val_loss: 0.2582 - val_accuracy: 0.9481\n",
      "Epoch 11/100\n",
      "1668/1672 [============================>.] - ETA: 0s - loss: 0.2534 - accuracy: 0.9499Restoring model weights from the end of the best epoch: 9.\n",
      "1672/1672 [==============================] - 24s 14ms/step - loss: 0.2535 - accuracy: 0.9499 - val_loss: 0.2545 - val_accuracy: 0.9493\n",
      "Epoch 11: early stopping\n"
     ]
    }
   ],
   "source": [
    "history = model.fit(\n",
    "    X_train_sm, y_train_sm,\n",
    "    validation_data = (X_valid_sm, y_valid_sm),\n",
    "    batch_size=32,\n",
    "    validation_batch_size=16,\n",
    "    epochs=100, \n",
    "    verbose = 1,\n",
    "    callbacks = [earlystop, csv_log]\n",
    ")"
   ]
  },
  {
   "cell_type": "markdown",
   "metadata": {},
   "source": [
    "#### Analyze the result"
   ]
  },
  {
   "cell_type": "code",
   "execution_count": 20,
   "metadata": {},
   "outputs": [
    {
     "data": {
      "image/png": "[encoded data removed]",
      "text/plain": [
       "<Figure size 432x288 with 1 Axes>"
      ]
     },
     "metadata": {},
     "output_type": "display_data"
    },
    {
     "data": {
      "image/png": "[encoded data removed]",
      "text/plain": [
       "<Figure size 432x288 with 1 Axes>"
      ]
     },
     "metadata": {},
     "output_type": "display_data"
    }
   ],
   "source": [
    "acc = history.history['accuracy']\n",
    "val_acc = history.history['val_accuracy']\n",
    "loss = history.history['loss']\n",
    "val_loss = history.history['val_loss']\n",
    "\n",
    "epochs = range(len(acc))\n",
    "\n",
    "plt.plot(epochs, acc, 'r', label='Training accuracy')\n",
    "plt.plot(epochs, val_acc, 'b', label='Validation accuracy')\n",
    "plt.title('Training and validation accuracy')\n",
    "plt.legend()\n",
    "\n",
    "plt.figure()\n",
    "\n",
    "plt.plot(epochs, loss, 'r', label='Training Loss')\n",
    "plt.plot(epochs, val_loss, 'b', label='Validation Loss')\n",
    "plt.title('Training and validation loss')\n",
    "plt.legend()\n",
    "\n",
    "plt.show()"
   ]
  },
  {
   "cell_type": "code",
   "execution_count": 21,
   "metadata": {},
   "outputs": [
    {
     "name": "stdout",
     "output_type": "stream",
     "text": [
      "133/133 [==============================] - 1s 4ms/step\n"
     ]
    }
   ],
   "source": [
    "val_pred = model.predict(X_valid)\n",
    "val_result = []\n",
    "for pred in val_pred :\n",
    "    if pred > 0.5 :\n",
    "        val_result.append(1)\n",
    "    else :\n",
    "        val_result.append(0)"
   ]
  },
  {
   "cell_type": "code",
   "execution_count": 22,
   "metadata": {},
   "outputs": [
    {
     "name": "stdout",
     "output_type": "stream",
     "text": [
      "80.11527377521614\n"
     ]
    }
   ],
   "source": [
    "f1 = f1_score(list(y_valid), val_result)\n",
    "print(f1 * 100)"
   ]
  },
  {
   "cell_type": "code",
   "execution_count": 33,
   "metadata": {},
   "outputs": [
    {
     "data": {
      "text/plain": [
       "<AxesSubplot:>"
      ]
     },
     "execution_count": 33,
     "metadata": {},
     "output_type": "execute_result"
    },
    {
     "data": {
      "image/png": "[encoded data removed]",
      "text/plain": [
       "<Figure size 432x288 with 2 Axes>"
      ]
     },
     "metadata": {},
     "output_type": "display_data"
    }
   ],
   "source": [
    "cm = confusion_matrix(list(y_valid), val_result)\n",
    "sns.heatmap(cm, annot=True)"
   ]
  },
  {
   "cell_type": "code",
   "execution_count": 24,
   "metadata": {},
   "outputs": [
    {
     "name": "stdout",
     "output_type": "stream",
     "text": [
      "              precision    recall  f1-score   support\n",
      "\n",
      "           0       1.00      0.88      0.94      3399\n",
      "           1       0.67      1.00      0.80       838\n",
      "\n",
      "    accuracy                           0.90      4237\n",
      "   macro avg       0.83      0.94      0.87      4237\n",
      "weighted avg       0.93      0.90      0.91      4237\n",
      "\n"
     ]
    }
   ],
   "source": [
    "print(classification_report(list(y_valid), val_result, target_names=[\"0\", \"1\"]))"
   ]
  },
  {
   "cell_type": "code",
   "execution_count": 25,
   "metadata": {},
   "outputs": [
    {
     "name": "stdout",
     "output_type": "stream",
     "text": [
      "133/133 [==============================] - 1s 4ms/step\n"
     ]
    }
   ],
   "source": [
    "test_pred = model.predict(X_test)\n",
    "test_result = []\n",
    "for pred in test_pred :\n",
    "    if pred > 0.5 :\n",
    "        test_result.append(1)\n",
    "    else :\n",
    "        test_result.append(0)\n"
   ]
  },
  {
   "cell_type": "code",
   "execution_count": 26,
   "metadata": {},
   "outputs": [],
   "source": [
    "model.save(os.path.join(\"models\", \"GGU_3_Classification.h5\"))"
   ]
  },
  {
   "cell_type": "code",
   "execution_count": 32,
   "metadata": {},
   "outputs": [],
   "source": [
    "test_df = pd.DataFrame({\"label\" : test_result})\n",
    "test_report = pd.concat([X_test, test_df], axis=1)\n",
    "test_report.to_csv(os.path.join(\"assets\", \"GGU_classification_report.csv\"), index=False)\n"
   ]
  },
  {
   "cell_type": "code",
   "execution_count": 34,
   "metadata": {},
   "outputs": [
    {
     "name": "stderr",
     "output_type": "stream",
     "text": [
      "[NbConvertApp] Converting notebook classification_model.ipynb to PDFviaHTML\n",
      "[NbConvertApp] Writing 316840 bytes to classification_model.pdf\n"
     ]
    }
   ],
   "source": [
    "!jupyter-nbconvert --to PDFviaHTML classification_model.ipynb"
   ]
  }
 ],
 "metadata": {
  "kernelspec": {
   "display_name": "Python 3.10.4 ('directml310')",
   "language": "python",
   "name": "python3"
  },
  "language_info": {
   "codemirror_mode": {
    "name": "ipython",
    "version": 3
   },
   "file_extension": ".py",
   "mimetype": "text/x-python",
   "name": "python",
   "nbconvert_exporter": "python",
   "pygments_lexer": "ipython3",
   "version": "3.10.4"
  },
  "orig_nbformat": 4,
  "vscode": {
   "interpreter": {
    "hash": "b97acc0761a111f21c1273e9e1ea79387ac0b5d81cec126fc583961bef2cf645"
   }
  }
 },
 "nbformat": 4,
 "nbformat_minor": 2
}
