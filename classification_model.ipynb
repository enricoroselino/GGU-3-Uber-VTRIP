{
 "cells": [
  {
   "cell_type": "code",
   "execution_count": 35,
   "metadata": {},
   "outputs": [],
   "source": [
    "import tensorflow as tf\n",
    "import pandas as pd\n",
    "import os\n",
    "from fast_ml.model_development import train_valid_test_split\n",
    "from imblearn.combine import SMOTETomek\n",
    "import matplotlib.pyplot as plt\n",
    "import seaborn as sns\n",
    "from sklearn.preprocessing import MinMaxScaler\n",
    "from tensorflow.keras.optimizers import Adam\n",
    "from sklearn.metrics import classification_report, f1_score, confusion_matrix\n",
    "\n",
    "%matplotlib inline\n",
    "sns.set()"
   ]
  },
  {
   "cell_type": "code",
   "execution_count": 36,
   "metadata": {},
   "outputs": [],
   "source": [
    "# Set memory limiter for each GPU\n",
    "gpus = tf.config.experimental.list_physical_devices('GPU')\n",
    "if gpus:\n",
    "  try:\n",
    "    for gpu in gpus:\n",
    "      tf.config.experimental.set_memory_growth(gpu, True)\n",
    "  except RuntimeError as e:\n",
    "    print(e)"
   ]
  },
  {
   "cell_type": "code",
   "execution_count": 37,
   "metadata": {},
   "outputs": [],
   "source": [
    "data_path = os.path.join(\"dataset\", \"GGU_classification.csv\")\n",
    "data_df = pd.read_csv(data_path)"
   ]
  },
  {
   "cell_type": "code",
   "execution_count": 38,
   "metadata": {},
   "outputs": [
    {
     "data": {
      "text/html": [
       "<div>\n",
       "<style scoped>\n",
       "    .dataframe tbody tr th:only-of-type {\n",
       "        vertical-align: middle;\n",
       "    }\n",
       "\n",
       "    .dataframe tbody tr th {\n",
       "        vertical-align: top;\n",
       "    }\n",
       "\n",
       "    .dataframe thead th {\n",
       "        text-align: right;\n",
       "    }\n",
       "</style>\n",
       "<table border=\"1\" class=\"dataframe\">\n",
       "  <thead>\n",
       "    <tr style=\"text-align: right;\">\n",
       "      <th></th>\n",
       "      <th>label</th>\n",
       "      <th>price</th>\n",
       "      <th>est_meters</th>\n",
       "      <th>trip_duration</th>\n",
       "      <th>est_duration</th>\n",
       "      <th>wait_sec</th>\n",
       "      <th>service_taxi</th>\n",
       "      <th>service_uberblack</th>\n",
       "      <th>service_uberx</th>\n",
       "      <th>service_uberxl</th>\n",
       "      <th>country_colombia</th>\n",
       "      <th>country_equador</th>\n",
       "      <th>country_mexico</th>\n",
       "    </tr>\n",
       "  </thead>\n",
       "  <tbody>\n",
       "    <tr>\n",
       "      <th>17828</th>\n",
       "      <td>0</td>\n",
       "      <td>0.5</td>\n",
       "      <td>11257</td>\n",
       "      <td>1348</td>\n",
       "      <td>1013</td>\n",
       "      <td>384</td>\n",
       "      <td>1</td>\n",
       "      <td>0</td>\n",
       "      <td>0</td>\n",
       "      <td>0</td>\n",
       "      <td>0</td>\n",
       "      <td>1</td>\n",
       "      <td>0</td>\n",
       "    </tr>\n",
       "    <tr>\n",
       "      <th>13004</th>\n",
       "      <td>0</td>\n",
       "      <td>0.5</td>\n",
       "      <td>5111</td>\n",
       "      <td>1100</td>\n",
       "      <td>459</td>\n",
       "      <td>346</td>\n",
       "      <td>1</td>\n",
       "      <td>0</td>\n",
       "      <td>0</td>\n",
       "      <td>0</td>\n",
       "      <td>0</td>\n",
       "      <td>1</td>\n",
       "      <td>0</td>\n",
       "    </tr>\n",
       "    <tr>\n",
       "      <th>40027</th>\n",
       "      <td>0</td>\n",
       "      <td>1.0</td>\n",
       "      <td>1522</td>\n",
       "      <td>483</td>\n",
       "      <td>136</td>\n",
       "      <td>74</td>\n",
       "      <td>1</td>\n",
       "      <td>0</td>\n",
       "      <td>0</td>\n",
       "      <td>0</td>\n",
       "      <td>0</td>\n",
       "      <td>0</td>\n",
       "      <td>1</td>\n",
       "    </tr>\n",
       "  </tbody>\n",
       "</table>\n",
       "</div>"
      ],
      "text/plain": [
       "       label  price  est_meters  trip_duration  est_duration  wait_sec  \\\n",
       "17828      0    0.5       11257           1348          1013       384   \n",
       "13004      0    0.5        5111           1100           459       346   \n",
       "40027      0    1.0        1522            483           136        74   \n",
       "\n",
       "       service_taxi  service_uberblack  service_uberx  service_uberxl  \\\n",
       "17828             1                  0              0               0   \n",
       "13004             1                  0              0               0   \n",
       "40027             1                  0              0               0   \n",
       "\n",
       "       country_colombia  country_equador  country_mexico  \n",
       "17828                 0                1               0  \n",
       "13004                 0                1               0  \n",
       "40027                 0                0               1  "
      ]
     },
     "execution_count": 38,
     "metadata": {},
     "output_type": "execute_result"
    }
   ],
   "source": [
    "data_df.sample(3)"
   ]
  },
  {
   "cell_type": "code",
   "execution_count": 40,
   "metadata": {},
   "outputs": [
    {
     "data": {
      "text/plain": [
       "0    34210\n",
       "1     8163\n",
       "Name: label, dtype: int64"
      ]
     },
     "execution_count": 40,
     "metadata": {},
     "output_type": "execute_result"
    }
   ],
   "source": [
    "data_df[\"label\"].value_counts()"
   ]
  },
  {
   "cell_type": "code",
   "execution_count": 43,
   "metadata": {},
   "outputs": [],
   "source": [
    "scaled_df = data_df\n",
    "scaler = MinMaxScaler()\n",
    "scaled_df[[\"price\", \"est_meters\", \"est_duration\", \"trip_duration\", \"wait_sec\"]] = scaler.fit_transform(scaled_df[[\"price\", \"est_meters\", \"est_duration\", \"trip_duration\", \"wait_sec\"]])"
   ]
  },
  {
   "cell_type": "code",
   "execution_count": 44,
   "metadata": {},
   "outputs": [],
   "source": [
    "X_train, y_train, X_valid, y_valid, X_test, y_test = train_valid_test_split(scaled_df, target = 'label', \n",
    "                                                                            train_size=0.8, valid_size=0.1, test_size=0.1, random_state=42)"
   ]
  },
  {
   "cell_type": "code",
   "execution_count": 45,
   "metadata": {},
   "outputs": [],
   "source": [
    "# oversampling to handle label imbalance\n",
    "oversample = SMOTETomek(random_state = 42)\n",
    "X_train_sm, y_train_sm = oversample.fit_resample(X_train, y_train)\n",
    "X_valid_sm, y_valid_sm = oversample.fit_resample(X_valid, y_valid)"
   ]
  },
  {
   "cell_type": "code",
   "execution_count": 46,
   "metadata": {},
   "outputs": [
    {
     "data": {
      "text/plain": [
       "0    27216\n",
       "1    27216\n",
       "Name: label, dtype: int64"
      ]
     },
     "execution_count": 46,
     "metadata": {},
     "output_type": "execute_result"
    }
   ],
   "source": [
    "# check label counts\n",
    "y_train_sm.value_counts()"
   ]
  },
  {
   "cell_type": "code",
   "execution_count": 47,
   "metadata": {},
   "outputs": [
    {
     "data": {
      "text/plain": [
       "(54432, 12)"
      ]
     },
     "execution_count": 47,
     "metadata": {},
     "output_type": "execute_result"
    }
   ],
   "source": [
    "X_train_sm.shape"
   ]
  },
  {
   "cell_type": "code",
   "execution_count": 71,
   "metadata": {},
   "outputs": [],
   "source": [
    "csv_log = tf.keras.callbacks.CSVLogger(\n",
    "    os.path.join(\"models\", \"history.csv\"), \n",
    "    separator=\",\", \n",
    "    append=False\n",
    ")\n",
    "\n",
    "earlystop = tf.keras.callbacks.EarlyStopping(\n",
    "    monitor='val_accuracy',\n",
    "    min_delta=0,\n",
    "    patience=2,\n",
    "    verbose=1,\n",
    "    mode='auto',\n",
    "    baseline=None,\n",
    "    restore_best_weights=True\n",
    ")"
   ]
  },
  {
   "cell_type": "code",
   "execution_count": 83,
   "metadata": {},
   "outputs": [],
   "source": [
    "KR = tf.keras.regularizers.L2(\n",
    "    l2=0.00001\n",
    ")\n",
    "#LeakyReLU\n",
    "model = tf.keras.models.Sequential([\n",
    "    tf.keras.layers.LayerNormalization(),\n",
    "    tf.keras.layers.Dense(300, input_shape=(12, ), activation=\"LeakyReLU\", kernel_regularizer=KR),\n",
    "    tf.keras.layers.Dropout(0.5),\n",
    "    tf.keras.layers.Dense(150, activation=\"LeakyReLU\", kernel_regularizer=KR),\n",
    "    tf.keras.layers.Dropout(0.5),\n",
    "    tf.keras.layers.Dense(1, activation=\"sigmoid\", kernel_regularizer=KR)\n",
    "])"
   ]
  },
  {
   "cell_type": "code",
   "execution_count": 84,
   "metadata": {},
   "outputs": [],
   "source": [
    "model.compile(\n",
    "    optimizer=Adam(learning_rate=0.00001),\n",
    "    loss=\"binary_crossentropy\",\n",
    "    metrics = [\"accuracy\"]\n",
    ")"
   ]
  },
  {
   "cell_type": "code",
   "execution_count": 85,
   "metadata": {},
   "outputs": [
    {
     "name": "stdout",
     "output_type": "stream",
     "text": [
      "Epoch 1/100\n",
      "1701/1701 [==============================] - 22s 13ms/step - loss: 0.5502 - accuracy: 0.7603 - val_loss: 0.3917 - val_accuracy: 0.9113\n",
      "Epoch 2/100\n",
      "1701/1701 [==============================] - 21s 12ms/step - loss: 0.3479 - accuracy: 0.8987 - val_loss: 0.2783 - val_accuracy: 0.9209\n",
      "Epoch 3/100\n",
      "1701/1701 [==============================] - 22s 13ms/step - loss: 0.2774 - accuracy: 0.9146 - val_loss: 0.2465 - val_accuracy: 0.9295\n",
      "Epoch 4/100\n",
      "1701/1701 [==============================] - 21s 13ms/step - loss: 0.2526 - accuracy: 0.9203 - val_loss: 0.2307 - val_accuracy: 0.9338\n",
      "Epoch 5/100\n",
      "1701/1701 [==============================] - 24s 14ms/step - loss: 0.2387 - accuracy: 0.9244 - val_loss: 0.2191 - val_accuracy: 0.9340\n",
      "Epoch 6/100\n",
      "1701/1701 [==============================] - 21s 13ms/step - loss: 0.2271 - accuracy: 0.9269 - val_loss: 0.2096 - val_accuracy: 0.9358\n",
      "Epoch 7/100\n",
      "1701/1701 [==============================] - 22s 13ms/step - loss: 0.2177 - accuracy: 0.9290 - val_loss: 0.2022 - val_accuracy: 0.9373\n",
      "Epoch 8/100\n",
      "1701/1701 [==============================] - 21s 13ms/step - loss: 0.2086 - accuracy: 0.9317 - val_loss: 0.1949 - val_accuracy: 0.9390\n",
      "Epoch 9/100\n",
      "1701/1701 [==============================] - 21s 13ms/step - loss: 0.2022 - accuracy: 0.9325 - val_loss: 0.1883 - val_accuracy: 0.9395\n",
      "Epoch 10/100\n",
      "1701/1701 [==============================] - 21s 13ms/step - loss: 0.1969 - accuracy: 0.9342 - val_loss: 0.1826 - val_accuracy: 0.9401\n",
      "Epoch 11/100\n",
      "1701/1701 [==============================] - 23s 14ms/step - loss: 0.1920 - accuracy: 0.9350 - val_loss: 0.1777 - val_accuracy: 0.9404\n",
      "Epoch 12/100\n",
      "1701/1701 [==============================] - 25s 15ms/step - loss: 0.1869 - accuracy: 0.9355 - val_loss: 0.1727 - val_accuracy: 0.9411\n",
      "Epoch 13/100\n",
      "1701/1701 [==============================] - 22s 13ms/step - loss: 0.1818 - accuracy: 0.9364 - val_loss: 0.1684 - val_accuracy: 0.9411\n",
      "Epoch 14/100\n",
      "1699/1701 [============================>.] - ETA: 0s - loss: 0.1773 - accuracy: 0.9376Restoring model weights from the end of the best epoch: 12.\n",
      "1701/1701 [==============================] - 22s 13ms/step - loss: 0.1775 - accuracy: 0.9375 - val_loss: 0.1640 - val_accuracy: 0.9408\n",
      "Epoch 14: early stopping\n"
     ]
    }
   ],
   "source": [
    "history = model.fit(\n",
    "    X_train_sm, y_train_sm,\n",
    "    validation_data = (X_valid_sm, y_valid_sm),\n",
    "    batch_size=32,\n",
    "    validation_batch_size=16,\n",
    "    epochs=100, \n",
    "    verbose = 1,\n",
    "    callbacks = [earlystop, csv_log]\n",
    ")"
   ]
  },
  {
   "cell_type": "markdown",
   "metadata": {},
   "source": [
    "#### Analyze the result"
   ]
  },
  {
   "cell_type": "code",
   "execution_count": 86,
   "metadata": {},
   "outputs": [
    {
     "data": {
      "image/png": "[encoded data removed]",
      "text/plain": [
       "<Figure size 432x288 with 1 Axes>"
      ]
     },
     "metadata": {},
     "output_type": "display_data"
    },
    {
     "data": {
      "image/png": "[encoded data removed]",
      "text/plain": [
       "<Figure size 432x288 with 1 Axes>"
      ]
     },
     "metadata": {},
     "output_type": "display_data"
    }
   ],
   "source": [
    "acc = history.history['accuracy']\n",
    "val_acc = history.history['val_accuracy']\n",
    "loss = history.history['loss']\n",
    "val_loss = history.history['val_loss']\n",
    "\n",
    "epochs = range(len(acc))\n",
    "\n",
    "plt.plot(epochs, acc, 'r', label='Training accuracy')\n",
    "plt.plot(epochs, val_acc, 'b', label='Validation accuracy')\n",
    "plt.title('Training and validation accuracy')\n",
    "plt.legend()\n",
    "\n",
    "plt.figure()\n",
    "\n",
    "plt.plot(epochs, loss, 'r', label='Training Loss')\n",
    "plt.plot(epochs, val_loss, 'b', label='Validation Loss')\n",
    "plt.title('Training and validation loss')\n",
    "plt.legend()\n",
    "\n",
    "plt.show()"
   ]
  },
  {
   "cell_type": "code",
   "execution_count": 87,
   "metadata": {},
   "outputs": [
    {
     "name": "stdout",
     "output_type": "stream",
     "text": [
      "133/133 [==============================] - 1s 3ms/step\n"
     ]
    }
   ],
   "source": [
    "val_pred = model.predict(X_valid)\n",
    "val_result = []\n",
    "for pred in val_pred :\n",
    "    if pred > 0.5 :\n",
    "        val_result.append(1)\n",
    "    else :\n",
    "        val_result.append(0)"
   ]
  },
  {
   "cell_type": "code",
   "execution_count": 88,
   "metadata": {},
   "outputs": [
    {
     "name": "stdout",
     "output_type": "stream",
     "text": [
      "80.48543689320388\n"
     ]
    }
   ],
   "source": [
    "f1 = f1_score(list(y_valid), val_result)\n",
    "print(f1 * 100)"
   ]
  },
  {
   "cell_type": "code",
   "execution_count": 89,
   "metadata": {},
   "outputs": [
    {
     "data": {
      "text/plain": [
       "<AxesSubplot:>"
      ]
     },
     "execution_count": 89,
     "metadata": {},
     "output_type": "execute_result"
    },
    {
     "data": {
      "image/png": "[encoded data removed]",
      "text/plain": [
       "<Figure size 432x288 with 2 Axes>"
      ]
     },
     "metadata": {},
     "output_type": "display_data"
    }
   ],
   "source": [
    "cm = confusion_matrix(list(y_valid), val_result)\n",
    "sns.heatmap(cm, annot=True)"
   ]
  },
  {
   "cell_type": "code",
   "execution_count": 90,
   "metadata": {},
   "outputs": [
    {
     "name": "stdout",
     "output_type": "stream",
     "text": [
      "              precision    recall  f1-score   support\n",
      "\n",
      "           0       1.00      0.88      0.94      3399\n",
      "           1       0.68      0.99      0.80       838\n",
      "\n",
      "    accuracy                           0.91      4237\n",
      "   macro avg       0.84      0.94      0.87      4237\n",
      "weighted avg       0.93      0.91      0.91      4237\n",
      "\n"
     ]
    }
   ],
   "source": [
    "print(classification_report(list(y_valid), val_result, target_names=[\"0\", \"1\"]))"
   ]
  },
  {
   "cell_type": "code",
   "execution_count": 91,
   "metadata": {},
   "outputs": [
    {
     "name": "stdout",
     "output_type": "stream",
     "text": [
      "133/133 [==============================] - 0s 3ms/step\n"
     ]
    }
   ],
   "source": [
    "test_pred = model.predict(X_test)\n",
    "test_result = []\n",
    "for pred in test_pred :\n",
    "    if pred > 0.5 :\n",
    "        test_result.append(1)\n",
    "    else :\n",
    "        test_result.append(0)\n"
   ]
  },
  {
   "cell_type": "code",
   "execution_count": 94,
   "metadata": {},
   "outputs": [],
   "source": [
    "model.save(os.path.join(\"models\", \"GGU_3_Classification.h5\"))"
   ]
  },
  {
   "cell_type": "code",
   "execution_count": 95,
   "metadata": {},
   "outputs": [],
   "source": [
    "test_df = pd.DataFrame({\"label\" : test_result})\n",
    "test_report = pd.concat([X_test, test_df], axis=1)\n",
    "test_report.to_csv(os.path.join(\"assets\", \"GGU_classification_report.csv\"), index=False)\n"
   ]
  },
  {
   "cell_type": "code",
   "execution_count": 97,
   "metadata": {},
   "outputs": [
    {
     "name": "stderr",
     "output_type": "stream",
     "text": [
      "[NbConvertApp] Converting notebook classification_model.ipynb to PDFviaHTML\n",
      "[NbConvertApp] Writing 327564 bytes to classification_model.pdf\n"
     ]
    }
   ],
   "source": [
    "!jupyter-nbconvert --to PDFviaHTML classification_model.ipynb"
   ]
  }
 ],
 "metadata": {
  "kernelspec": {
   "display_name": "Python 3.10.4 ('directml310')",
   "language": "python",
   "name": "python3"
  },
  "language_info": {
   "codemirror_mode": {
    "name": "ipython",
    "version": 3
   },
   "file_extension": ".py",
   "mimetype": "text/x-python",
   "name": "python",
   "nbconvert_exporter": "python",
   "pygments_lexer": "ipython3",
   "version": "3.10.4"
  },
  "orig_nbformat": 4,
  "vscode": {
   "interpreter": {
    "hash": "b97acc0761a111f21c1273e9e1ea79387ac0b5d81cec126fc583961bef2cf645"
   }
  }
 },
 "nbformat": 4,
 "nbformat_minor": 2
}
