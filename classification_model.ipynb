{
 "cells": [
  {
   "cell_type": "code",
   "execution_count": 139,
   "metadata": {},
   "outputs": [],
   "source": [
    "import tensorflow as tf\n",
    "import pandas as pd\n",
    "import os\n",
    "from fast_ml.model_development import train_valid_test_split\n",
    "from imblearn.combine import SMOTETomek\n",
    "import matplotlib.pyplot as plt\n",
    "import seaborn as sns\n",
    "from sklearn.preprocessing import MinMaxScaler\n",
    "from tensorflow.keras.optimizers import Adam\n",
    "from sklearn.metrics import classification_report, f1_score, confusion_matrix\n",
    "\n",
    "%matplotlib inline\n",
    "sns.set()"
   ]
  },
  {
   "cell_type": "code",
   "execution_count": 140,
   "metadata": {},
   "outputs": [],
   "source": [
    "# Set memory limiter for each GPU\n",
    "gpus = tf.config.experimental.list_physical_devices('GPU')\n",
    "if gpus:\n",
    "  try:\n",
    "    for gpu in gpus:\n",
    "      tf.config.experimental.set_memory_growth(gpu, True)\n",
    "  except RuntimeError as e:\n",
    "    print(e)"
   ]
  },
  {
   "cell_type": "code",
   "execution_count": 141,
   "metadata": {},
   "outputs": [],
   "source": [
    "data_path = os.path.join(\"dataset\", \"GGU_classification.csv\")\n",
    "data_df = pd.read_csv(data_path)"
   ]
  },
  {
   "cell_type": "code",
   "execution_count": 142,
   "metadata": {},
   "outputs": [
    {
     "data": {
      "text/html": [
       "<div>\n",
       "<style scoped>\n",
       "    .dataframe tbody tr th:only-of-type {\n",
       "        vertical-align: middle;\n",
       "    }\n",
       "\n",
       "    .dataframe tbody tr th {\n",
       "        vertical-align: top;\n",
       "    }\n",
       "\n",
       "    .dataframe thead th {\n",
       "        text-align: right;\n",
       "    }\n",
       "</style>\n",
       "<table border=\"1\" class=\"dataframe\">\n",
       "  <thead>\n",
       "    <tr style=\"text-align: right;\">\n",
       "      <th></th>\n",
       "      <th>label</th>\n",
       "      <th>price</th>\n",
       "      <th>est_meters</th>\n",
       "      <th>trip_duration</th>\n",
       "      <th>est_duration</th>\n",
       "      <th>wait_sec</th>\n",
       "      <th>service_taxi</th>\n",
       "      <th>service_uberblack</th>\n",
       "      <th>service_uberx</th>\n",
       "      <th>service_uberxl</th>\n",
       "      <th>country_colombia</th>\n",
       "      <th>country_equador</th>\n",
       "      <th>country_mexico</th>\n",
       "    </tr>\n",
       "  </thead>\n",
       "  <tbody>\n",
       "    <tr>\n",
       "      <th>30737</th>\n",
       "      <td>0</td>\n",
       "      <td>0.5</td>\n",
       "      <td>8413</td>\n",
       "      <td>988</td>\n",
       "      <td>757</td>\n",
       "      <td>325</td>\n",
       "      <td>1</td>\n",
       "      <td>0</td>\n",
       "      <td>0</td>\n",
       "      <td>0</td>\n",
       "      <td>0</td>\n",
       "      <td>1</td>\n",
       "      <td>0</td>\n",
       "    </tr>\n",
       "    <tr>\n",
       "      <th>4182</th>\n",
       "      <td>1</td>\n",
       "      <td>2.0</td>\n",
       "      <td>2625</td>\n",
       "      <td>498</td>\n",
       "      <td>236</td>\n",
       "      <td>143</td>\n",
       "      <td>1</td>\n",
       "      <td>0</td>\n",
       "      <td>0</td>\n",
       "      <td>0</td>\n",
       "      <td>0</td>\n",
       "      <td>0</td>\n",
       "      <td>1</td>\n",
       "    </tr>\n",
       "    <tr>\n",
       "      <th>23206</th>\n",
       "      <td>0</td>\n",
       "      <td>1.0</td>\n",
       "      <td>49</td>\n",
       "      <td>1322</td>\n",
       "      <td>4</td>\n",
       "      <td>273</td>\n",
       "      <td>1</td>\n",
       "      <td>0</td>\n",
       "      <td>0</td>\n",
       "      <td>0</td>\n",
       "      <td>0</td>\n",
       "      <td>0</td>\n",
       "      <td>1</td>\n",
       "    </tr>\n",
       "  </tbody>\n",
       "</table>\n",
       "</div>"
      ],
      "text/plain": [
       "       label  price  est_meters  trip_duration  est_duration  wait_sec  \\\n",
       "30737      0    0.5        8413            988           757       325   \n",
       "4182       1    2.0        2625            498           236       143   \n",
       "23206      0    1.0          49           1322             4       273   \n",
       "\n",
       "       service_taxi  service_uberblack  service_uberx  service_uberxl  \\\n",
       "30737             1                  0              0               0   \n",
       "4182              1                  0              0               0   \n",
       "23206             1                  0              0               0   \n",
       "\n",
       "       country_colombia  country_equador  country_mexico  \n",
       "30737                 0                1               0  \n",
       "4182                  0                0               1  \n",
       "23206                 0                0               1  "
      ]
     },
     "execution_count": 142,
     "metadata": {},
     "output_type": "execute_result"
    }
   ],
   "source": [
    "data_df.sample(3)"
   ]
  },
  {
   "cell_type": "code",
   "execution_count": 143,
   "metadata": {},
   "outputs": [
    {
     "data": {
      "text/plain": [
       "0    34210\n",
       "1     8163\n",
       "Name: label, dtype: int64"
      ]
     },
     "execution_count": 143,
     "metadata": {},
     "output_type": "execute_result"
    }
   ],
   "source": [
    "data_df[\"label\"].value_counts()"
   ]
  },
  {
   "cell_type": "code",
   "execution_count": 144,
   "metadata": {},
   "outputs": [],
   "source": [
    "scaled_df = data_df\n",
    "scaler = MinMaxScaler()\n",
    "scaled_df[[\"price\", \"est_meters\", \"est_duration\", \"trip_duration\", \"wait_sec\"]] = scaler.fit_transform(scaled_df[[\"price\", \"est_meters\", \"est_duration\", \"trip_duration\", \"wait_sec\"]])"
   ]
  },
  {
   "cell_type": "code",
   "execution_count": 145,
   "metadata": {},
   "outputs": [],
   "source": [
    "X_train, y_train, X_valid, y_valid, X_test, y_test = train_valid_test_split(scaled_df, target = 'label', \n",
    "                                                                            train_size=0.8, valid_size=0.1, test_size=0.1, random_state=42)"
   ]
  },
  {
   "cell_type": "code",
   "execution_count": 146,
   "metadata": {},
   "outputs": [],
   "source": [
    "# oversampling to handle label imbalance\n",
    "oversample = SMOTETomek(random_state = 42)\n",
    "X_train_sm, y_train_sm = oversample.fit_resample(X_train, y_train)\n",
    "X_valid_sm, y_valid_sm = oversample.fit_resample(X_valid, y_valid)"
   ]
  },
  {
   "cell_type": "code",
   "execution_count": 147,
   "metadata": {},
   "outputs": [
    {
     "data": {
      "text/plain": [
       "0    27216\n",
       "1    27216\n",
       "Name: label, dtype: int64"
      ]
     },
     "execution_count": 147,
     "metadata": {},
     "output_type": "execute_result"
    }
   ],
   "source": [
    "# check label counts\n",
    "y_train_sm.value_counts()"
   ]
  },
  {
   "cell_type": "code",
   "execution_count": 148,
   "metadata": {},
   "outputs": [
    {
     "data": {
      "text/plain": [
       "(54432, 12)"
      ]
     },
     "execution_count": 148,
     "metadata": {},
     "output_type": "execute_result"
    }
   ],
   "source": [
    "X_train_sm.shape"
   ]
  },
  {
   "cell_type": "code",
   "execution_count": 149,
   "metadata": {},
   "outputs": [],
   "source": [
    "csv_log = tf.keras.callbacks.CSVLogger(\n",
    "    os.path.join(\"models\", \"history.csv\"), \n",
    "    separator=\",\", \n",
    "    append=False\n",
    ")\n",
    "\n",
    "earlystop = tf.keras.callbacks.EarlyStopping(\n",
    "    monitor='val_accuracy',\n",
    "    min_delta=0,\n",
    "    patience=2,\n",
    "    verbose=1,\n",
    "    mode='auto',\n",
    "    baseline=None,\n",
    "    restore_best_weights=True\n",
    ")"
   ]
  },
  {
   "cell_type": "code",
   "execution_count": 150,
   "metadata": {},
   "outputs": [],
   "source": [
    "KR = tf.keras.regularizers.L2(\n",
    "    l2=0.00001\n",
    ")\n",
    "#LeakyReLU\n",
    "model = tf.keras.models.Sequential([\n",
    "    tf.keras.layers.LayerNormalization(),\n",
    "    tf.keras.layers.Dense(300, input_shape=(12, ), activation=\"LeakyReLU\", kernel_regularizer=KR),\n",
    "    tf.keras.layers.Dropout(0.5),\n",
    "    tf.keras.layers.Dense(150, activation=\"LeakyReLU\", kernel_regularizer=KR),\n",
    "    tf.keras.layers.Dropout(0.5),\n",
    "    tf.keras.layers.Dense(1, activation=\"sigmoid\", kernel_regularizer=KR)\n",
    "])"
   ]
  },
  {
   "cell_type": "code",
   "execution_count": 151,
   "metadata": {},
   "outputs": [],
   "source": [
    "model.compile(\n",
    "    optimizer=Adam(learning_rate=0.00001),\n",
    "    loss=\"binary_crossentropy\",\n",
    "    metrics = [\"accuracy\"]\n",
    ")"
   ]
  },
  {
   "cell_type": "code",
   "execution_count": 152,
   "metadata": {},
   "outputs": [
    {
     "name": "stdout",
     "output_type": "stream",
     "text": [
      "Epoch 1/100\n",
      "1701/1701 [==============================] - 21s 12ms/step - loss: 0.5409 - accuracy: 0.7734 - val_loss: 0.3934 - val_accuracy: 0.8962\n",
      "Epoch 2/100\n",
      "1701/1701 [==============================] - 21s 13ms/step - loss: 0.3444 - accuracy: 0.9005 - val_loss: 0.2857 - val_accuracy: 0.9137\n",
      "Epoch 3/100\n",
      "1701/1701 [==============================] - 21s 12ms/step - loss: 0.2802 - accuracy: 0.9132 - val_loss: 0.2522 - val_accuracy: 0.9218\n",
      "Epoch 4/100\n",
      "1701/1701 [==============================] - 21s 12ms/step - loss: 0.2543 - accuracy: 0.9196 - val_loss: 0.2342 - val_accuracy: 0.9288\n",
      "Epoch 5/100\n",
      "1701/1701 [==============================] - 21s 13ms/step - loss: 0.2374 - accuracy: 0.9236 - val_loss: 0.2207 - val_accuracy: 0.9340\n",
      "Epoch 6/100\n",
      "1701/1701 [==============================] - 22s 13ms/step - loss: 0.2274 - accuracy: 0.9263 - val_loss: 0.2104 - val_accuracy: 0.9349\n",
      "Epoch 7/100\n",
      "1701/1701 [==============================] - 20s 12ms/step - loss: 0.2174 - accuracy: 0.9277 - val_loss: 0.2010 - val_accuracy: 0.9355\n",
      "Epoch 8/100\n",
      "1701/1701 [==============================] - 21s 12ms/step - loss: 0.2081 - accuracy: 0.9302 - val_loss: 0.1927 - val_accuracy: 0.9370\n",
      "Epoch 9/100\n",
      "1701/1701 [==============================] - 20s 12ms/step - loss: 0.2013 - accuracy: 0.9319 - val_loss: 0.1861 - val_accuracy: 0.9380\n",
      "Epoch 10/100\n",
      "1701/1701 [==============================] - 20s 12ms/step - loss: 0.1960 - accuracy: 0.9333 - val_loss: 0.1795 - val_accuracy: 0.9386\n",
      "Epoch 11/100\n",
      "1701/1701 [==============================] - 21s 12ms/step - loss: 0.1898 - accuracy: 0.9344 - val_loss: 0.1745 - val_accuracy: 0.9389\n",
      "Epoch 12/100\n",
      "1701/1701 [==============================] - 21s 13ms/step - loss: 0.1847 - accuracy: 0.9351 - val_loss: 0.1692 - val_accuracy: 0.9392\n",
      "Epoch 13/100\n",
      "1701/1701 [==============================] - 22s 13ms/step - loss: 0.1811 - accuracy: 0.9351 - val_loss: 0.1644 - val_accuracy: 0.9392\n",
      "Epoch 14/100\n",
      "1701/1701 [==============================] - 22s 13ms/step - loss: 0.1757 - accuracy: 0.9360 - val_loss: 0.1597 - val_accuracy: 0.9398\n",
      "Epoch 15/100\n",
      "1701/1701 [==============================] - 20s 12ms/step - loss: 0.1725 - accuracy: 0.9363 - val_loss: 0.1560 - val_accuracy: 0.9398\n",
      "Epoch 16/100\n",
      "1700/1701 [============================>.] - ETA: 0s - loss: 0.1699 - accuracy: 0.9367Restoring model weights from the end of the best epoch: 14.\n",
      "1701/1701 [==============================] - 21s 12ms/step - loss: 0.1699 - accuracy: 0.9367 - val_loss: 0.1522 - val_accuracy: 0.9393\n",
      "Epoch 16: early stopping\n"
     ]
    }
   ],
   "source": [
    "history = model.fit(\n",
    "    X_train_sm, y_train_sm,\n",
    "    validation_data = (X_valid_sm, y_valid_sm),\n",
    "    batch_size=32,\n",
    "    validation_batch_size=16,\n",
    "    epochs=100, \n",
    "    verbose = 1,\n",
    "    callbacks = [earlystop, csv_log]\n",
    ")"
   ]
  },
  {
   "cell_type": "markdown",
   "metadata": {},
   "source": [
    "#### Analyze the result"
   ]
  },
  {
   "cell_type": "code",
   "execution_count": 153,
   "metadata": {},
   "outputs": [
    {
     "data": {
      "image/png": "[encoded data removed]",
      "text/plain": [
       "<Figure size 432x288 with 1 Axes>"
      ]
     },
     "metadata": {},
     "output_type": "display_data"
    },
    {
     "data": {
      "image/png": "[encoded data removed]",
      "text/plain": [
       "<Figure size 432x288 with 1 Axes>"
      ]
     },
     "metadata": {},
     "output_type": "display_data"
    }
   ],
   "source": [
    "acc = history.history['accuracy']\n",
    "val_acc = history.history['val_accuracy']\n",
    "loss = history.history['loss']\n",
    "val_loss = history.history['val_loss']\n",
    "\n",
    "epochs = range(len(acc))\n",
    "\n",
    "plt.plot(epochs, acc, 'r', label='Training accuracy')\n",
    "plt.plot(epochs, val_acc, 'b', label='Validation accuracy')\n",
    "plt.title('Training and validation accuracy')\n",
    "plt.legend()\n",
    "\n",
    "plt.figure()\n",
    "\n",
    "plt.plot(epochs, loss, 'r', label='Training Loss')\n",
    "plt.plot(epochs, val_loss, 'b', label='Validation Loss')\n",
    "plt.title('Training and validation loss')\n",
    "plt.legend()\n",
    "\n",
    "plt.show()"
   ]
  },
  {
   "cell_type": "code",
   "execution_count": 154,
   "metadata": {},
   "outputs": [
    {
     "name": "stdout",
     "output_type": "stream",
     "text": [
      "133/133 [==============================] - 0s 3ms/step\n"
     ]
    }
   ],
   "source": [
    "val_pred = model.predict(X_valid)\n",
    "val_result = []\n",
    "for pred in val_pred :\n",
    "    if pred > 0.5 :\n",
    "        val_result.append(1)\n",
    "    else :\n",
    "        val_result.append(0)"
   ]
  },
  {
   "cell_type": "code",
   "execution_count": 155,
   "metadata": {},
   "outputs": [
    {
     "name": "stdout",
     "output_type": "stream",
     "text": [
      "80.4284323271665\n"
     ]
    }
   ],
   "source": [
    "f1 = f1_score(list(y_valid), val_result)\n",
    "print(f1 * 100)"
   ]
  },
  {
   "cell_type": "code",
   "execution_count": 156,
   "metadata": {},
   "outputs": [
    {
     "data": {
      "text/plain": [
       "<AxesSubplot:>"
      ]
     },
     "execution_count": 156,
     "metadata": {},
     "output_type": "execute_result"
    },
    {
     "data": {
      "image/png": "[encoded data removed]",
      "text/plain": [
       "<Figure size 432x288 with 2 Axes>"
      ]
     },
     "metadata": {},
     "output_type": "display_data"
    }
   ],
   "source": [
    "cm = confusion_matrix(list(y_valid), val_result)\n",
    "sns.heatmap(cm, annot=True)"
   ]
  },
  {
   "cell_type": "code",
   "execution_count": 157,
   "metadata": {},
   "outputs": [
    {
     "name": "stdout",
     "output_type": "stream",
     "text": [
      "              precision    recall  f1-score   support\n",
      "\n",
      "           0       1.00      0.89      0.94      3399\n",
      "           1       0.68      0.99      0.80       838\n",
      "\n",
      "    accuracy                           0.91      4237\n",
      "   macro avg       0.84      0.94      0.87      4237\n",
      "weighted avg       0.93      0.91      0.91      4237\n",
      "\n"
     ]
    }
   ],
   "source": [
    "print(classification_report(list(y_valid), val_result, target_names=[\"0\", \"1\"]))"
   ]
  },
  {
   "cell_type": "code",
   "execution_count": 166,
   "metadata": {},
   "outputs": [
    {
     "name": "stdout",
     "output_type": "stream",
     "text": [
      "133/133 [==============================] - 0s 3ms/step\n"
     ]
    }
   ],
   "source": [
    "test_pred = model.predict(X_test)\n",
    "test_result = []\n",
    "for pred in test_pred :\n",
    "    if pred > 0.5 :\n",
    "        test_result.append(1)\n",
    "    else :\n",
    "        test_result.append(0)\n"
   ]
  },
  {
   "cell_type": "code",
   "execution_count": 159,
   "metadata": {},
   "outputs": [
    {
     "data": {
      "text/plain": [
       "4238"
      ]
     },
     "execution_count": 159,
     "metadata": {},
     "output_type": "execute_result"
    }
   ],
   "source": [
    "len(test_result)"
   ]
  },
  {
   "cell_type": "code",
   "execution_count": 160,
   "metadata": {},
   "outputs": [],
   "source": [
    "model.save(os.path.join(\"models\", \"GGU_3_Classification.h5\"))"
   ]
  },
  {
   "cell_type": "code",
   "execution_count": 174,
   "metadata": {},
   "outputs": [],
   "source": [
    "test_df = pd.DataFrame({\"label\" : test_result})\n",
    "test_report = pd.concat([X_test.reset_index(), test_df], axis=1, ignore_index=True)\n",
    "test_report.to_csv(os.path.join(\"assets\", \"GGU_classification_report.csv\"), index=False)"
   ]
  },
  {
   "cell_type": "code",
   "execution_count": 162,
   "metadata": {},
   "outputs": [
    {
     "name": "stderr",
     "output_type": "stream",
     "text": [
      "[NbConvertApp] Converting notebook classification_model.ipynb to PDFviaHTML\n",
      "[NbConvertApp] Writing 325666 bytes to classification_model.pdf\n"
     ]
    }
   ],
   "source": [
    "!jupyter-nbconvert --to PDFviaHTML classification_model.ipynb"
   ]
  }
 ],
 "metadata": {
  "kernelspec": {
   "display_name": "Python 3.10.4 ('directml310')",
   "language": "python",
   "name": "python3"
  },
  "language_info": {
   "codemirror_mode": {
    "name": "ipython",
    "version": 3
   },
   "file_extension": ".py",
   "mimetype": "text/x-python",
   "name": "python",
   "nbconvert_exporter": "python",
   "pygments_lexer": "ipython3",
   "version": "3.10.4"
  },
  "orig_nbformat": 4,
  "vscode": {
   "interpreter": {
    "hash": "b97acc0761a111f21c1273e9e1ea79387ac0b5d81cec126fc583961bef2cf645"
   }
  }
 },
 "nbformat": 4,
 "nbformat_minor": 2
}
