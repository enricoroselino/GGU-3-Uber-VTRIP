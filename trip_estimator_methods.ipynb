{
 "cells": [
  {
   "cell_type": "code",
   "execution_count": 1,
   "metadata": {},
   "outputs": [],
   "source": [
    "import pandas as pd\n",
    "import os\n",
    "from datetime import date, datetime\n",
    "import json\n",
    "import requests\n",
    "from geopy.distance import distance \n",
    "from math import radians, cos, sin, asin, sqrt"
   ]
  },
  {
   "cell_type": "code",
   "execution_count": 2,
   "metadata": {},
   "outputs": [],
   "source": [
    "# OS dependent path\n",
    "# load bog, mex, and uio csv\n",
    "bog_path = os.path.join(\"dataset\", \"bog_clean.csv\")\n",
    "mex_path = os.path.join(\"dataset\", \"mex_clean.csv\")\n",
    "equ_path = os.path.join(\"dataset\", \"uio_clean.csv\")\n",
    "# read dataset\n",
    "bog_df = pd.read_csv(bog_path)\n",
    "mex_df = pd.read_csv(mex_path)\n",
    "equ_df = pd.read_csv(equ_path)\n",
    "dataset_df = pd.concat([bog_df, mex_df, equ_df], ignore_index=True)\n",
    "dataset_df = dataset_df.drop([\"store_and_fwd_flag\", \"id\"], axis=1)\n",
    "dataset_df = dataset_df.drop_duplicates()\n",
    "# change date and time format\n",
    "dataset_df[\"pickup_datetime\"] = pd.to_datetime(dataset_df[\"pickup_datetime\"], format=\"%Y/%m/%d %H:%M:%S\")\n",
    "dataset_df[\"dropoff_datetime\"] = pd.to_datetime(dataset_df[\"dropoff_datetime\"], format=\"%Y/%m/%d %H:%M:%S\")\n",
    "# strip time from datetime\n",
    "dataset_df[\"pickup_datetime\"] = pd.to_datetime(dataset_df[\"pickup_datetime\"]).dt.date\n",
    "dataset_df[\"dropoff_datetime\"] = pd.to_datetime(dataset_df[\"dropoff_datetime\"]).dt.date\n",
    "# sort by pickup date time\n",
    "dataset_df = dataset_df.sort_values(by=[\"pickup_datetime\"])\n",
    "dataset_df = dataset_df.reset_index(drop=True)"
   ]
  },
  {
   "cell_type": "code",
   "execution_count": 154,
   "metadata": {},
   "outputs": [],
   "source": [
    "def osrm_api(p_lon, p_lat, d_lon, d_lat) :\n",
    "    # request API to get driving distance and duration between 2 locations\n",
    "    # http://project-osrm.org/\n",
    "    # distance in meters and duration in seconds\n",
    "    r = requests.get(\n",
    "            f\"\"\"http://router.project-osrm.org/route/v1/driving/{p_lon},{p_lat};{d_lon},{d_lat}?overview=false\"\"\"\n",
    "    )\n",
    "    route = json.loads(r.content)[\"routes\"][0]\n",
    "    map_distance = route[\"distance\"]\n",
    "    map_duration = route[\"duration\"]\n",
    "    return map_distance, map_duration\n",
    "\n",
    "def haversine(p_lon, p_lat, d_lon, d_lat) :\n",
    "    # calculate distance using the great circle method\n",
    "    # R = earth radius in KM\n",
    "    R = 6372.8 \n",
    "    dLat = radians(d_lat - p_lat)\n",
    "    dLon = radians(d_lon - d_lon)\n",
    "    lat1 = radians(p_lat)\n",
    "    lat2 = radians(d_lat)\n",
    "    a = sin(dLat/2)**2 + cos(lat1)*cos(lat2)*sin(dLon/2)**2\n",
    "    c = 2*asin(sqrt(a))\n",
    "    return R * c\n",
    "\n",
    "def geodesic(p_lon, p_lat, d_lon, d_lat) :\n",
    "    # calculate distance using geodesic method\n",
    "    pickup = (p_lat, p_lon)\n",
    "    dropoff = (d_lat, d_lon)\n",
    "    result = distance(pickup, dropoff).km\n",
    "    return result * 1000 * 1.5165198608676824\n",
    "\n",
    "def distance_estimator(df) :\n",
    "    # calculate the duration then append to est_duration\n",
    "    # using geodesic\n",
    "    distance = []\n",
    "    for i in range(len(df)) :\n",
    "        PICKUP_LONG = df.pickup_longitude[i]\n",
    "        PICKUP_LAT = df.pickup_latitude[i]\n",
    "        DROPOFF_LONG = df.dropoff_longitude[i]\n",
    "        DROPOFF_LAT = df.dropoff_latitude[i]\n",
    "        result = geodesic(PICKUP_LONG, PICKUP_LAT, DROPOFF_LONG, DROPOFF_LAT) *1000\n",
    "        distance.append(result)\n",
    "    return distance\n",
    "\n",
    "def time_calc(meters, kmph) :\n",
    "    time =  meters/ (kmph * (1000/3600))\n",
    "    return time\n",
    "\n",
    "def duration_estimator(df) :\n",
    "    # dalam kota limit 50 km/h\n",
    "    # pemukiman limit 30 km/h\n",
    "    # ambil rata-rata kecepatan jadi 40 km/h\n",
    "    duration = []\n",
    "    for i in range(len(df)) :\n",
    "        d = df.est_meters[i]\n",
    "        v = 40 # average speed in km/h\n",
    "        t = time_calc(d, v) # time travel in seconds\n",
    "        duration.append(t)\n",
    "    return duration\n",
    "\n",
    "def calibration(df) : \n",
    "    # calibrate geodesic to osrm with an coeficient\n",
    "    # pass 100 samples of shuffled data\n",
    "    SPEED = 40\n",
    "    time_coef = []\n",
    "    dist_coef = []\n",
    "    for i in range(len(df)) : \n",
    "        PICKUP_LONG = df.pickup_longitude[i]\n",
    "        PICKUP_LAT = df.pickup_latitude[i]\n",
    "        DROPOFF_LONG = df.dropoff_longitude[i]\n",
    "        DROPOFF_LAT = df.dropoff_latitude[i]\n",
    "        osrm_data = osrm_api(PICKUP_LONG, PICKUP_LAT, DROPOFF_LONG, DROPOFF_LAT)\n",
    "        geodesic_data = geodesic(PICKUP_LONG, PICKUP_LAT, DROPOFF_LONG, DROPOFF_LAT) * 1000\n",
    "        geodesic_time_data = time_calc(geodesic_data, SPEED)\n",
    "        dc = osrm_data[0] / geodesic_data\n",
    "        tc = osrm_data[1] / geodesic_time_data\n",
    "        dist_coef.append(dc)\n",
    "        time_coef.append(tc)\n",
    "    result_dist_coef = sum(dist_coef) / len(df)\n",
    "    result_time_coef = sum(time_coef) / len(df)\n",
    "    return result_dist_coef, result_time_coef"
   ]
  },
  {
   "cell_type": "code",
   "execution_count": 155,
   "metadata": {},
   "outputs": [
    {
     "name": "stdout",
     "output_type": "stream",
     "text": [
      "(12704.3, 926.2)\n",
      "12526.778764998448\n",
      "2.732952293981997\n",
      "5331.088832256043\n",
      "1.1630772544850452\n"
     ]
    }
   ],
   "source": [
    "print(osrm_api(-74.05888051, 4.711039752, -74.11598336, 4.66310966))\n",
    "print(geodesic(-74.05888051, 4.711039752, -74.11598336, 4.66310966))\n",
    "print(time_calc(geodesic(-74.05888051, 4.711039752, -74.11598336, 4.66310966), 40))\n",
    "\n",
    "print(haversine(-74.05888051, 4.711039752, -74.11598336, 4.66310966) * 1000)\n",
    "print(time_calc(haversine(-74.05888051, 4.711039752, -74.11598336, 4.66310966) * 1000, 40))"
   ]
  },
  {
   "cell_type": "code",
   "execution_count": 113,
   "metadata": {},
   "outputs": [],
   "source": [
    "# iterating the calibration 10 times and get the average\n",
    "coefs = []\n",
    "for i in range(10) :\n",
    "    sample_df = dataset_df.sample(30)\n",
    "    sample_df = sample_df.sort_values(by=[\"pickup_datetime\"])\n",
    "    sample_df = sample_df.reset_index(drop=True)\n",
    "    coefs.append(calibration(sample_df))"
   ]
  },
  {
   "cell_type": "code",
   "execution_count": 120,
   "metadata": {},
   "outputs": [],
   "source": [
    "dist_c = [1.5812027456359385, 1.775139120811639, 1.4392439755714015, 1.3834894548884848, 1.4078692995501634, 1.383879117744345, 1.4912986182103856, 1.4227422885901597, 1.7266688709667026, 1.553665116707606]\n",
    "dist_t = [1.783073914785963, 2.397118283815813, 1.592531898189508, 1.4400788390020063, 1.5754468084440547, 1.5953026198694815, 1.7228758377662727, 1.495075463027367, 2.083137218285952, 1.6176344445670887]"
   ]
  },
  {
   "cell_type": "code",
   "execution_count": 123,
   "metadata": {},
   "outputs": [
    {
     "name": "stdout",
     "output_type": "stream",
     "text": [
      "1.5165198608676824\n",
      "1.7302275327753507\n"
     ]
    }
   ],
   "source": [
    "print(sum(dist_c) / len(dist_c))\n",
    "print(sum(dist_t) / len(dist_t))"
   ]
  },
  {
   "cell_type": "code",
   "execution_count": 153,
   "metadata": {},
   "outputs": [
    {
     "name": "stdout",
     "output_type": "stream",
     "text": [
      "(12704.3, 926.2)\n",
      "12526.778764998448\n",
      "1127.4100888498604\n"
     ]
    }
   ],
   "source": [
    "print(osrm_api(-74.05888051, 4.711039752, -74.11598336, 4.66310966))\n",
    "print(geodesic(-74.05888051, 4.711039752, -74.11598336, 4.66310966)) \n",
    "print(time_calc(geodesic(-74.05888051, 4.711039752, -74.11598336, 4.66310966), 40)) "
   ]
  },
  {
   "cell_type": "markdown",
   "metadata": {},
   "source": [
    "the distance seems reliable with coefs, but the duration not... lets calibrate the duration only but after adding the distance coeficient"
   ]
  },
  {
   "cell_type": "code",
   "execution_count": 148,
   "metadata": {},
   "outputs": [],
   "source": [
    "t_coefs = []\n",
    "for i in range(10) :\n",
    "    sample_df = dataset_df.sample(30)\n",
    "    sample_df = sample_df.sort_values(by=[\"pickup_datetime\"])\n",
    "    sample_df = sample_df.reset_index(drop=True)\n",
    "    t_coefs.append(calibration(sample_df)[1])"
   ]
  },
  {
   "cell_type": "code",
   "execution_count": 149,
   "metadata": {},
   "outputs": [
    {
     "data": {
      "text/plain": [
       "[0.0016042374342462877,\n",
       " 0.001626591171339282,\n",
       " 0.0011225784683371136,\n",
       " 0.0011129368256387238,\n",
       " 0.008220444363866484,\n",
       " 0.000998268400835961,\n",
       " 0.0012050853179174517,\n",
       " 0.005805988925102309,\n",
       " 0.0010993998361858589,\n",
       " 0.0014454470605348218]"
      ]
     },
     "execution_count": 149,
     "metadata": {},
     "output_type": "execute_result"
    }
   ],
   "source": [
    "t_coefs"
   ]
  },
  {
   "cell_type": "code",
   "execution_count": 151,
   "metadata": {},
   "outputs": [
    {
     "name": "stdout",
     "output_type": "stream",
     "text": [
      "0.0024240977804004292\n"
     ]
    }
   ],
   "source": [
    "print(sum(t_coefs) / len(t_coefs))"
   ]
  },
  {
   "cell_type": "markdown",
   "metadata": {},
   "source": [
    "no just dont use its bad, only use the distance!"
   ]
  }
 ],
 "metadata": {
  "kernelspec": {
   "display_name": "Python 3.10.4 ('directml310')",
   "language": "python",
   "name": "python3"
  },
  "language_info": {
   "codemirror_mode": {
    "name": "ipython",
    "version": 3
   },
   "file_extension": ".py",
   "mimetype": "text/x-python",
   "name": "python",
   "nbconvert_exporter": "python",
   "pygments_lexer": "ipython3",
   "version": "3.10.4"
  },
  "orig_nbformat": 4,
  "vscode": {
   "interpreter": {
    "hash": "b97acc0761a111f21c1273e9e1ea79387ac0b5d81cec126fc583961bef2cf645"
   }
  }
 },
 "nbformat": 4,
 "nbformat_minor": 2
}
