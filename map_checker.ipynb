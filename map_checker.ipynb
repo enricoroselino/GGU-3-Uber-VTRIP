{
 "cells": [
  {
   "cell_type": "markdown",
   "metadata": {},
   "source": [
    "# warning : tiati ngelag parah"
   ]
  },
  {
   "cell_type": "code",
   "execution_count": null,
   "metadata": {},
   "outputs": [],
   "source": [
    "import folium\n",
    "import pandas as pd"
   ]
  },
  {
   "cell_type": "code",
   "execution_count": null,
   "metadata": {},
   "outputs": [],
   "source": [
    "# OS dependent path\n",
    "bog_path = os.path.join(\"dataset\", \"bog_clean.csv\")\n",
    "mex_path = os.path.join(\"dataset\", \"mex_clean.csv\")\n",
    "equ_path = os.path.join(\"dataset\", \"uio_clean.csv\")"
   ]
  },
  {
   "cell_type": "code",
   "execution_count": null,
   "metadata": {},
   "outputs": [],
   "source": [
    "# read dataset\n",
    "bog_df = pd.read_csv(bog_path)\n",
    "mex_df = pd.read_csv(mex_path)\n",
    "equ_df = pd.read_csv(equ_path)"
   ]
  },
  {
   "cell_type": "code",
   "execution_count": null,
   "metadata": {},
   "outputs": [],
   "source": [
    "BOG_MIDDLE_MAP = [\n",
    "    sum(bog_df.pickup_latitude.values) / len(bog_df.pickup_latitude.values),\n",
    "    sum(bog_df.pickup_longitude.values) / len(bog_df.pickup_longitude.values)\n",
    "]\n",
    "\n",
    "osm_map = folium.Map(\n",
    "    location=BOG_MIDDLE_MAP, \n",
    "    zoom_start=6,\n",
    "    tiles=\"OpenStreetMap\",\n",
    "    prefer_canvas=True,\n",
    "    zoom_control=False,\n",
    "    scrollWheelZoom=False,\n",
    "    dragging=False,\n",
    "    png_enabled=True\n",
    ")\n",
    "\n",
    "for i in range(len(bog_df)):\n",
    "    folium.CircleMarker(\n",
    "        location=[bog_df.pickup_latitude[i], bog_df.pickup_longitude[i]],\n",
    "        popup=bog_df.id[i],\n",
    "        fill=True,\n",
    "        color=\"blue\"\n",
    "    ).add_to(osm_map)\n",
    "    folium.CircleMarker(\n",
    "        location=[bog_df.dropoff_latitude[i], bog_df.dropoff_longitude[i]],\n",
    "        popup=bog_df.id[i],\n",
    "        fill=True,\n",
    "        color=\"red\"\n",
    "    ).add_to(osm_map)\n",
    "\n",
    "osm_map"
   ]
  },
  {
   "cell_type": "code",
   "execution_count": null,
   "metadata": {},
   "outputs": [],
   "source": [
    "MEX_MIDDLE_MAP = [\n",
    "    sum(mex_df.pickup_latitude.values) / len(mex_df.pickup_latitude.values),\n",
    "    sum(mex_df.pickup_longitude.values) / len(mex_df.pickup_longitude.values)\n",
    "]\n",
    "\n",
    "osm_map = folium.Map(\n",
    "    location=MEX_MIDDLE_MAP, \n",
    "    zoom_start=6,\n",
    "    tiles=\"OpenStreetMap\",\n",
    "    prefer_canvas=True,\n",
    "    zoom_control=False,\n",
    "    scrollWheelZoom=False,\n",
    "    dragging=False,\n",
    "    png_enabled=True\n",
    ")\n",
    "\n",
    "for i in range(len(mex_df)):\n",
    "    folium.CircleMarker(\n",
    "        location=[mex_df.pickup_latitude[i], mex_df.pickup_longitude[i]],\n",
    "        popup=mex_df.id[i],\n",
    "        fill=True,\n",
    "        color=\"blue\"\n",
    "    ).add_to(osm_map)\n",
    "    folium.CircleMarker(\n",
    "        location=[mex_df.dropoff_latitude[i], mex_df.dropoff_longitude[i]],\n",
    "        popup=mex_df.id[i],\n",
    "        fill=True,\n",
    "        color=\"red\"\n",
    "    ).add_to(osm_map)\n",
    "\n",
    "osm_map"
   ]
  },
  {
   "cell_type": "code",
   "execution_count": null,
   "metadata": {},
   "outputs": [],
   "source": [
    "EQU_MIDDLE_MAP = [\n",
    "    sum(equ_df.pickup_latitude.values) / len(equ_df.pickup_latitude.values),\n",
    "    sum(equ_df.pickup_longitude.values) / len(equ_df.pickup_longitude.values)\n",
    "]\n",
    "\n",
    "osm_map = folium.Map(\n",
    "    location=EQU_MIDDLE_MAP, \n",
    "    zoom_start=6,\n",
    "    tiles=\"OpenStreetMap\",\n",
    "    prefer_canvas=True,\n",
    "    zoom_control=False,\n",
    "    scrollWheelZoom=False,\n",
    "    dragging=False,\n",
    "    png_enabled=True\n",
    ")\n",
    "\n",
    "for i in range(len(equ_df)):\n",
    "    folium.CircleMarker(\n",
    "        location=[equ_df.pickup_latitude[i], equ_df.pickup_longitude[i]],\n",
    "        popup=equ_df.id[i],\n",
    "        fill=True,\n",
    "        color=\"blue\"\n",
    "    ).add_to(osm_map)\n",
    "    folium.CircleMarker(\n",
    "        location=[equ_df.dropoff_latitude[i], equ_df.dropoff_longitude[i]],\n",
    "        popup=equ_df.id[i],\n",
    "        fill=True,\n",
    "        color=\"red\"\n",
    "    ).add_to(osm_map)\n",
    "\n",
    "osm_map"
   ]
  }
 ],
 "metadata": {
  "kernelspec": {
   "display_name": "Python 3.10.4 ('directml310')",
   "language": "python",
   "name": "python3"
  },
  "language_info": {
   "codemirror_mode": {
    "name": "ipython",
    "version": 3
   },
   "file_extension": ".py",
   "mimetype": "text/x-python",
   "name": "python",
   "nbconvert_exporter": "python",
   "pygments_lexer": "ipython3",
   "version": "3.10.4"
  },
  "orig_nbformat": 4,
  "vscode": {
   "interpreter": {
    "hash": "b97acc0761a111f21c1273e9e1ea79387ac0b5d81cec126fc583961bef2cf645"
   }
  }
 },
 "nbformat": 4,
 "nbformat_minor": 2
}
